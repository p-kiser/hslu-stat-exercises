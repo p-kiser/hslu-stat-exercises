{
 "cells": [
  {
   "cell_type": "markdown",
   "metadata": {},
   "source": [
    "# Aufgabe 3.1"
   ]
  },
  {
   "cell_type": "markdown",
   "metadata": {},
   "source": [
    "Die monatlichen Aufwendungen $X$ [CHF] für den Wasserverbrauch eines 2-Personenhaushalts seien durch eine Zufallsvariable mit der folgenden Wahrscheinlichkeitsdichtefunktion gegeben:"
   ]
  },
  {
   "cell_type": "markdown",
   "metadata": {},
   "source": [
    "$$f(x) = \\left\\{ \n",
    "        \\begin{matrix}\n",
    "        cx(15-\\frac{x}{4}) && \\text{falls}\\ 0 \\leq 60 \\\\\n",
    "        0 && \\text{sonst}\n",
    "        \\end{matrix}\n",
    "     \\right.\n",
    "         $$"
   ]
  },
  {
   "cell_type": "markdown",
   "metadata": {},
   "source": [
    "**a) Welchen Wert muss c annehmen?**"
   ]
  },
  {
   "cell_type": "markdown",
   "metadata": {},
   "source": [
    "Die Wahrscheinlichkeit $P$, dass ein Wert im Intervall $[a,b]$ liegt, kann wie folgt dargestellt werden:"
   ]
  },
  {
   "cell_type": "markdown",
   "metadata": {},
   "source": [
    "$$P(a < X < b) = \\int_{a}^{b}f(x)dx$$"
   ]
  },
  {
   "cell_type": "markdown",
   "metadata": {},
   "source": [
    "Die Fläche unter der Kurve zwischen $a$ und $b$ entspricht also der Wahrscheinlichkeit, dass ein Wert zwischen $a$ und $b$ liegt."
   ]
  },
  {
   "cell_type": "markdown",
   "metadata": {},
   "source": [
    "$$ F(x) = \\int_{0}^{60} cx(15-\\frac{x}{4}) $$\n",
    "\n",
    "$$= c\\ \\cdot \\int_{0}^{60} 15x - \\frac{1}{4}x^2 $$\n",
    "\n",
    "$$ = c\\cdot \\left.\\frac{15\\cdot x^2}{2}-\\frac{x^3}{12}\\right|_0^{60}$$"
   ]
  },
  {
   "cell_type": "markdown",
   "metadata": {},
   "source": [
    "Die gesamte Fläche unter der Kurve ergibt 1. Daraus folgt:"
   ]
  },
  {
   "cell_type": "markdown",
   "metadata": {},
   "source": [
    "$$ 1 = c\\cdot\\frac{15\\cdot 60^2}{2}-\\frac{60^3}{12} - 0$$"
   ]
  },
  {
   "cell_type": "markdown",
   "metadata": {},
   "source": [
    "$$ c = \\frac{1}{9000} $$"
   ]
  },
  {
   "cell_type": "code",
   "execution_count": 6,
   "metadata": {},
   "outputs": [
    {
     "data": {
      "text/plain": [
       "9000.0"
      ]
     },
     "execution_count": 6,
     "metadata": {},
     "output_type": "execute_result"
    }
   ],
   "source": [
    "# Oder mit Python\n",
    "from scipy.integrate import quad\n",
    "f = lambda x: x * (15 - x/4)\n",
    "ans,_ = quad(f, 0, 60)\n",
    "ans"
   ]
  },
  {
   "cell_type": "markdown",
   "metadata": {},
   "source": [
    "**b) Geben Sie die Verteilungsfunktion $F$ der Zufallsvariablen $X$ an.**"
   ]
  },
  {
   "cell_type": "markdown",
   "metadata": {},
   "source": [
    "$$ F(x)=\\left\\{\n",
    "    \\begin{matrix}\n",
    "    0 && \\text{falls}\\ x \\lt 0\\\\\n",
    "    \\frac{1}{9000}(\\frac{15}{2}x^2-\\frac{1}{12}x^3)\\ && \\text{falls}\\ 0\\leq x\\leq 60\\\\\n",
    "    1 && \\text{falls}\\ x \\gt 60\n",
    "    \\end{matrix}\n",
    "\\right. $$"
   ]
  },
  {
   "cell_type": "markdown",
   "metadata": {},
   "source": [
    "**c) Welcher Wert der Aufwendungen wird nur mit 10% Wahrscheinlichkeit überschritten?**"
   ]
  },
  {
   "cell_type": "markdown",
   "metadata": {},
   "source": [
    "Gesucht ist also ein $a$, so dass $F(a) = 0.9$:"
   ]
  },
  {
   "cell_type": "markdown",
   "metadata": {},
   "source": [
    "$$ \\frac{1}{9000}(\\frac{15}{2}a^2 - \\frac{1}{12}a^3)  = 0.9 $$"
   ]
  },
  {
   "cell_type": "markdown",
   "metadata": {},
   "source": [
    "Nach Null auflösen & mit Python berechnen:\n",
    "\n",
    "$$ \\frac{15}{2}a^2 - \\frac{1}{12}a^3 -8100 = 0 $$"
   ]
  },
  {
   "cell_type": "code",
   "execution_count": 7,
   "metadata": {},
   "outputs": [
    {
     "data": {
      "text/plain": [
       "{-28.6249720273366, 48.2519936604545, 70.3729783668821}"
      ]
     },
     "execution_count": 7,
     "metadata": {},
     "output_type": "execute_result"
    }
   ],
   "source": [
    "import sympy as sym\n",
    "\n",
    "a = sym.Symbol('a')\n",
    "sym.solveset(15/2*a**2-1/12*a**3-8100)"
   ]
  },
  {
   "cell_type": "markdown",
   "metadata": {},
   "source": [
    "Da nur das zweite Resultat im Wertebereich $[0,60]$ liegt:\n",
    "    \n",
    "$$a = 48.25$$"
   ]
  },
  {
   "cell_type": "markdown",
   "metadata": {},
   "source": [
    "**d) Wie hoch sind die erwarteten monatlichen Aufwendungen für den Wasserverbrauch eines 2-Personenhaushalts?**"
   ]
  },
  {
   "cell_type": "markdown",
   "metadata": {},
   "source": [
    "Der Erwartungswert für stetige Zufallsvariablen $X$ ist wie folgt definiert:\n",
    "\n",
    "$$ E(X) = \\int\\limits_{-\\infty}^{\\infty}{x \\cdot f(x)\\ dx} $$"
   ]
  },
  {
   "cell_type": "markdown",
   "metadata": {},
   "source": [
    "Für unsere Funtion im Intervall $[0,60]$:\n",
    "\n",
    "$$ E(X) = \\int\\limits_0^{60}{x\\cdot \\Bigg(\\frac{1}{9000} \\cdot x \\cdot  \\Big(15-\\frac{x}{4}\\Big)} \\Bigg)$$\n",
    "\n",
    "$$ = \\frac{1}{9000}\\int\\limits_0^{60}{x^2\\ (15-\\frac{x}{4})} $$\n",
    "\n",
    "$$ = \\frac{1}{9000}\\Bigg(\\left. 5x^3-\\frac{1}{16}x^4\\right|_0^{60}\\Bigg) $$\n",
    "\n",
    "$$ = 30 $$"
   ]
  },
  {
   "cell_type": "markdown",
   "metadata": {},
   "source": [
    "# Aufgabe 3.2"
   ]
  },
  {
   "cell_type": "markdown",
   "metadata": {},
   "source": [
    "In der Stadt Luzern gibt es bekanntlich viele Baustellen. Die Dauer X der Arbeiten bei einer Baustelle liege zwischen 0 und 20 Wochen. Die Dichte $f(x)$ habe die folgende Form."
   ]
  },
  {
   "cell_type": "markdown",
   "metadata": {},
   "source": [
    "![Aufgabe 3.2](./img/bau.png)"
   ]
  },
  {
   "cell_type": "markdown",
   "metadata": {},
   "source": [
    "**a) Begründen Sie, warum $c = 0.1$ ist und schreiben Sie die Dichte $f(x)$ explizit auf.**"
   ]
  },
  {
   "cell_type": "markdown",
   "metadata": {},
   "source": [
    "Die Fläche unter der Kurve muss 1 ergeben. Da es sich um ein Dreieck handelt gilt:\n",
    "\n",
    "$$ \\frac{c \\cdot 20}{2} = 1 $$\n",
    "\n",
    "Daraus folgt:\n",
    "\n",
    "$$ c = \\frac{1}{10} $$"
   ]
  },
  {
   "cell_type": "markdown",
   "metadata": {},
   "source": [
    "$$f(x)=\\left\\{\n",
    "    \\begin{matrix}\n",
    "    0\\ && x \\lt 0\\ \\text{und}\\ x \\gt 20 \\\\\n",
    "    -\\frac{1}{200}x+\\frac{1}{10} && 0\\leq x\\leq 20\n",
    "    \\end{matrix}\n",
    "\\right. $$"
   ]
  },
  {
   "cell_type": "markdown",
   "metadata": {},
   "source": [
    "**b) Berechnen Sie die Wahrscheinlichkeit, dass die Bauzeit X weniger als [ 5, 10 ] Wochen beträgt.**"
   ]
  },
  {
   "cell_type": "markdown",
   "metadata": {},
   "source": [
    "$$g(t) = F(t) = \\int\\limits_{0}^{t}{-\\frac{1}{200}x+\\frac{1}{10}\\ dx} $$\n",
    "\n",
    "$$= -\\frac{1}{400}t^2+\\frac{1}{10}t $$\n"
   ]
  },
  {
   "cell_type": "markdown",
   "metadata": {},
   "source": [
    "Und somit für $P(X<5)$:\n",
    "\n",
    "$$ g(5) = -\\frac{5^2}{400} +\\frac{5}{10} = 0.4375$$\n",
    "\n",
    "und für $P(X<10)$:\n",
    "\n",
    "$$ g(10) = -\\frac{10^2}{400} +\\frac{10}{10} = 0.75$$"
   ]
  },
  {
   "cell_type": "markdown",
   "metadata": {},
   "source": [
    "**c) Skizzieren Sie die kumulative Verteilungsfunktion.**"
   ]
  },
  {
   "cell_type": "code",
   "execution_count": 9,
   "metadata": {},
   "outputs": [
    {
     "data": {
      "image/png": "[encoded data removed]",
      "text/plain": [
       "<Figure size 1152x576 with 1 Axes>"
      ]
     },
     "metadata": {
      "needs_background": "light"
     },
     "output_type": "display_data"
    }
   ],
   "source": [
    "import numpy as np\n",
    "import matplotlib\n",
    "import matplotlib.pyplot as plt\n",
    "\n",
    "matplotlib.rcParams['figure.figsize'] = [16, 8]\n",
    "\n",
    "# Sample t between 0 and 20\n",
    "t = np.arange(0., 20.0, 0.5)\n",
    "\n",
    "plt.plot(t, -t**2/400+t/10)\n",
    "plt.show()"
   ]
  },
  {
   "cell_type": "markdown",
   "metadata": {},
   "source": [
    "**d) Berechnen Sie den Erwartungswert, den Median und die Standardabweichung der Dauer $X$.**"
   ]
  },
  {
   "cell_type": "markdown",
   "metadata": {},
   "source": [
    "\n",
    "Wenn X stetig ist, ist der Erwartungswert $E(X)$ folgendermassen definiert:\n",
    "\n",
    "$$E(X) = \\int_{-\\infty}^{\\infty}xf(x)\\text{d}x $$"
   ]
  },
  {
   "cell_type": "markdown",
   "metadata": {},
   "source": [
    "Auf unser Problem angewandt bedeutet dies:\n",
    "\n",
    "$$E(X) = \\int_0^{20}{-\\frac{1}{200}x^2+\\frac{1}{10}x\\ \\text{d}x} = \\frac{20}{3} \\approx 6.6666$$"
   ]
  },
  {
   "cell_type": "code",
   "execution_count": 3,
   "metadata": {},
   "outputs": [
    {
     "data": {
      "text/plain": [
       "(6.666666666666666, 7.401486830834377e-14)"
      ]
     },
     "execution_count": 3,
     "metadata": {},
     "output_type": "execute_result"
    }
   ],
   "source": [
    "import scipy.integrate as integrate\n",
    "integrate.quad(lambda x:-1/200*x**2+1/10*x, 0, 20)"
   ]
  },
  {
   "cell_type": "markdown",
   "metadata": {},
   "source": [
    "Die Varianz für $E(X)$ ist definiert als $Var(X) = E(X^2)-(E(X)^2$"
   ]
  },
  {
   "cell_type": "markdown",
   "metadata": {},
   "source": [
    "$$E(X^2) = \\int_0^{20}{x^2 f(x) \\text{d}x} = \\int_0^{20}{-\\frac{1}{200}x^3+\\frac{1}{10}x^2\\text{d}x} = \\frac{200}{3}$$\n",
    "\n",
    "Für unseren Fall bedeutet das also:\n",
    "\n",
    "$$ Var(X) = E(X^2)-(E(X)^2 = \\frac{200}{3}-(\\frac{20}{3})^2 = \\frac{200}{9} \\approx 22.2222$$"
   ]
  },
  {
   "cell_type": "code",
   "execution_count": 4,
   "metadata": {},
   "outputs": [
    {
     "data": {
      "text/plain": [
       "22.22222222222222"
      ]
     },
     "execution_count": 4,
     "metadata": {},
     "output_type": "execute_result"
    }
   ],
   "source": [
    "200/3-(20/3)**2"
   ]
  },
  {
   "cell_type": "markdown",
   "metadata": {},
   "source": [
    "Die Standardabweichung $\\sigma$ ist definiert als\n",
    "\n",
    "$$\\sigma(X)=\\sqrt{Var(X)} $$\n",
    "\n",
    "Für unseren Fall also:\n",
    "\n",
    "$$\\sigma(X) = \\sqrt{200/9} = \\sqrt{2}\\cdot\\frac{10}{3}\\approx4.7140$$"
   ]
  },
  {
   "cell_type": "code",
   "execution_count": 5,
   "metadata": {},
   "outputs": [
    {
     "data": {
      "text/plain": [
       "4.714045207910317"
      ]
     },
     "execution_count": 5,
     "metadata": {},
     "output_type": "execute_result"
    }
   ],
   "source": [
    "import math\n",
    "math.sqrt(200/9)"
   ]
  },
  {
   "cell_type": "markdown",
   "metadata": {},
   "source": [
    "Median:\n",
    "\n",
    "$$ F(\\tilde{m}) = \\frac{1}{2} $$ "
   ]
  },
  {
   "cell_type": "markdown",
   "metadata": {},
   "source": [
    "also:\n",
    "\n",
    "$$ F(\\tilde{m}) = -\\frac{1}{400}\\tilde{m}^2+\\frac{1}{10}\\tilde{m} = 0.5 $$"
   ]
  },
  {
   "cell_type": "markdown",
   "metadata": {},
   "source": [
    "und somit:\n",
    "\n",
    "$$ -\\frac{1}{400}\\tilde{m}^2+\\frac{1}{10}\\tilde{m} - 0.5 = 0 $$"
   ]
  },
  {
   "cell_type": "code",
   "execution_count": 6,
   "metadata": {},
   "outputs": [
    {
     "data": {
      "text/plain": [
       "{5.85786437626905, 34.142135623731}"
      ]
     },
     "execution_count": 6,
     "metadata": {},
     "output_type": "execute_result"
    }
   ],
   "source": [
    "m = sym.Symbol('m')\n",
    "sym.solveset(-(1/400)*m**2 + 1/10 * m -0.5)"
   ]
  },
  {
   "cell_type": "markdown",
   "metadata": {},
   "source": [
    "Da nur der erste Wert im Bereich $[0,20]$ liegt:\n",
    "    \n",
    "$$ \\tilde{m} = 5.858 $$"
   ]
  },
  {
   "cell_type": "markdown",
   "metadata": {},
   "source": [
    "**e) $K = 40′000 · \\sqrt{X}$ entspreche dem Betrag in Franken, den die Arbeiten bei einer\n",
    "Baustelle kosten. Wie gross ist die Wahrscheinlichkeit, dass die Arbeiten bei\n",
    "einer Baustelle höchstens 120’000.- Fr. kosten?**"
   ]
  },
  {
   "cell_type": "markdown",
   "metadata": {},
   "source": [
    "$$\\int\\limits_{0}^{t}{-\\frac{1}{200}x+\\frac{1}{10}\\ dx}$$"
   ]
  },
  {
   "cell_type": "code",
   "execution_count": 7,
   "metadata": {},
   "outputs": [
    {
     "name": "stdout",
     "output_type": "stream",
     "text": [
      "9.0\n"
     ]
    },
    {
     "data": {
      "text/plain": [
       "0.6975000000000001"
      ]
     },
     "execution_count": 7,
     "metadata": {},
     "output_type": "execute_result"
    }
   ],
   "source": [
    "print((120000/40000)**2)\n",
    "integrate.quad(lambda x:-1/200*x+1/10, 0, 9)[0]"
   ]
  },
  {
   "cell_type": "markdown",
   "metadata": {},
   "source": [
    "Die vorgeschlagene Verteilung ist nur ein Modell. Man könnte die Dauer der Bauarbeiten zum Beispiel auch als exponentialverteilt annehmen."
   ]
  },
  {
   "cell_type": "markdown",
   "metadata": {},
   "source": [
    "**f) Für welchen Parameter $\\lambda$ hat die Exponentialverteilung denselben Erwartungswert\n",
    "wie die bisherige angenommene Verteilung?**"
   ]
  },
  {
   "cell_type": "markdown",
   "metadata": {},
   "source": [
    "Der Erwartungswert einer Exponentialverteilung ist wie folgt definiert:\n",
    "\n",
    "$$ E(X) = \\frac{1}{\\lambda} $$\n",
    "\n",
    "Der bisherige Erwartungswert ist:\n",
    "\n",
    "$$E(X) = 6.666$$\n",
    "\n",
    "Daraus folgt:\n",
    "\n",
    "$$ \\lambda = 0.15 $$"
   ]
  },
  {
   "cell_type": "markdown",
   "metadata": {},
   "source": [
    "**g) Berechnen Sie mit der gefundenen Exponentialverteilung nochmals Teilaufgabe e).**"
   ]
  },
  {
   "cell_type": "code",
   "execution_count": 8,
   "metadata": {},
   "outputs": [
    {
     "data": {
      "text/plain": [
       "0.7407597393541085"
      ]
     },
     "execution_count": 8,
     "metadata": {},
     "output_type": "execute_result"
    }
   ],
   "source": [
    "integrate.quad(lambda x:0.15*np.exp(-0.15*x), 0, 9)[0]"
   ]
  },
  {
   "cell_type": "markdown",
   "metadata": {},
   "source": [
    "# Aufgabe 3.3"
   ]
  },
  {
   "cell_type": "markdown",
   "metadata": {},
   "source": [
    "Eine Maschine hat eine exponentialverteilte Lebensdauer $T_1$ (in Stunden) mit Parameter $\\lambda = 0.04$."
   ]
  },
  {
   "cell_type": "markdown",
   "metadata": {},
   "source": [
    "Dichte:\n",
    "\n",
    "$$ f_{T_1}(t) =\\left\\{\n",
    "   \\begin{matrix}\n",
    "    \\lambda e^{-\\lambda t} && t \\ge 0\\\\\n",
    "    0 && \\text{sonst}\\\\\n",
    "    \\end{matrix}\n",
    "    \\right. $$"
   ]
  },
  {
   "cell_type": "markdown",
   "metadata": {},
   "source": [
    "Verteilfunktion:\n",
    "\n",
    "$$ F_{T_1}(t) =\\left\\{\n",
    "   \\begin{matrix}\n",
    "    1 - e^{-\\lambda t} && t \\ge 0\\\\\n",
    "    0 && \\text{sonst}\\\\\n",
    "    \\end{matrix}\n",
    "    \\right. $$"
   ]
  },
  {
   "cell_type": "markdown",
   "metadata": {},
   "source": [
    "**a) Berechnen Sie den Median und den Erwartungswert. Mit welcher Wahrscheinlichkeit überlebt das System seine Lebenserwartung?**"
   ]
  },
  {
   "cell_type": "markdown",
   "metadata": {},
   "source": [
    "Median: \n",
    "\n",
    "$$ F(\\tilde{m}) = 0.5 $$\n",
    "\n",
    "$$ 1 - e^{-\\lambda \\tilde{m}} = 0.5 $$\n",
    "\n",
    "$$ ... $$\n",
    "\n",
    "$$ \\tilde{m} = \\frac{\\ln(2)}{\\lambda} $$"
   ]
  },
  {
   "cell_type": "markdown",
   "metadata": {},
   "source": [
    "Erwartungswert:\n",
    "\n",
    "$$ E(T_1) = \\frac{1}{\\lambda} = 25$$"
   ]
  },
  {
   "cell_type": "markdown",
   "metadata": {},
   "source": [
    "Die Wahrscheinlichkeit, dass das System die Lebenserwartung (Erwartungswert) überlebt:\n",
    "\n",
    "$$ P\\big(T_1 > E(T_1)\\big) = P\\Big(T_1 > \\frac{2}{\\lambda_1}\\Big)$$"
   ]
  },
  {
   "cell_type": "markdown",
   "metadata": {},
   "source": [
    "$$ = 1-P\\Big(T_1 \\le \\frac{1}{\\lambda_1} \\Big)$$"
   ]
  },
  {
   "cell_type": "markdown",
   "metadata": {},
   "source": [
    "$$ = 1 - F\\Big( \\frac{1}{\\lambda_1}\\Big) $$"
   ]
  },
  {
   "cell_type": "markdown",
   "metadata": {},
   "source": [
    "$$= e^{-1} \\approx 0.368 $$"
   ]
  },
  {
   "cell_type": "markdown",
   "metadata": {},
   "source": [
    "**b) Mit welcher Wahrscheinlichkeit liegt die Lebensdauer des Systems im Bereich $E[T_1] ± σ_{T_1}$?**"
   ]
  },
  {
   "cell_type": "markdown",
   "metadata": {},
   "source": [
    "Es gilt $\\mu = \\sigma = \\frac{1}{\\lambda}$, und somit:\n",
    "\n",
    "$$ P\\big(\\mu_1 - \\sigma_{T_1} \\le T_1 \\le \\mu_1 + \\sigma_{T_1}\\big) $$\n",
    "\n",
    "$$ = P\\Big(0 \\le T_1 \\ le \\frac{2}{\\lambda_1}\\Big) $$\n",
    "\n",
    "$$ = F\\Big(\\frac{2}{\\lambda_1}\\Big) - F(0)$$\n",
    "\n",
    "$$ = (1- e^{-2}) - 0 $$\n",
    "\n",
    "$$ = 1 - e^{-2} \\approx 0.865 $$"
   ]
  },
  {
   "cell_type": "markdown",
   "metadata": {},
   "source": [
    "**c) Nun betrachten wir eine zweite Maschine mit der Lebensdauer $T_2$ (in Stunden) mit der folgenden Dichte:**\n",
    "\n",
    "$$f_{T_{2}}(t)=\\left\\{\\begin{array}{ll}{0} & {t \\leq 0} \\\\ {c_{2} \\exp \\left(-\\frac{1}{1000} t\\right)} & {t \\geq 0}\\end{array}\\right.$$\n",
    "\n",
    "**Wie gross muss $c_2$ sein? Berechnen Sie den Erwartungswert und die Standardabweichung der Zufallsvariablen $T_2$.**"
   ]
  },
  {
   "cell_type": "markdown",
   "metadata": {},
   "source": [
    "Erwartungswert $E(T_2)$, Standardabweichung $\\sigma_{T_2}$:\n",
    "\n",
    "$$ \\lambda = \\frac{1}{1000} $$\n",
    "\n",
    "$$ E(T_2) = \\sigma_{T_2} = \\frac{1}{\\lambda_2}  = 1000 $$"
   ]
  },
  {
   "cell_type": "markdown",
   "metadata": {},
   "source": [
    "**d) Wir betrachten nun das System bestehend aus den beiden Maschinen mit Lebensdauern $T_1$ und $T_2$, welche unabhängig voneinander funktionieren. Berechnen Sie die Wahrscheinlichkeit, dass nach 200 Stunden beide Maschinen noch\n",
    "funktionieren.**"
   ]
  },
  {
   "cell_type": "markdown",
   "metadata": {},
   "source": [
    "$$ P(T_1 > 200, T_2 > 200) $$ \n",
    "$$ = P(T_1 > 200) \\cdot P(T_2 > 200) $$"
   ]
  },
  {
   "cell_type": "markdown",
   "metadata": {},
   "source": [
    "# Aufgabe 3.4"
   ]
  },
  {
   "cell_type": "markdown",
   "metadata": {},
   "source": [
    "Aufgrund langjähriger Untersuchungen ist bekannt, dass der Bleigehalt $X$ in einer Bodenprobe annähernd normalverteilt ist. Ausserdem weiss man, dass der Erwartungswert 32 ppb beträgt und dass die Standardabweichung 6 ppb beträgt."
   ]
  },
  {
   "cell_type": "markdown",
   "metadata": {},
   "source": [
    "**a) Machen Sie eine Skizze der Dichte von $X$, und zeichnen Sie die Wahrscheinlichkeit, dass eine Bodenprobe zwischen 26 und 38 ppb Blei enthält, in die Skizze ein.**"
   ]
  },
  {
   "cell_type": "markdown",
   "metadata": {},
   "source": [
    "$$ X \\sim \\mathcal{N}(\\mu,\\,\\sigma^{2}) $$\n",
    "$$ \\mu = 32, \\sigma = 6 $$"
   ]
  },
  {
   "cell_type": "code",
   "execution_count": 11,
   "metadata": {},
   "outputs": [
    {
     "data": {
      "image/png": "[encoded data removed]",
      "text/plain": [
       "<Figure size 1152x576 with 1 Axes>"
      ]
     },
     "metadata": {
      "needs_background": "light"
     },
     "output_type": "display_data"
    }
   ],
   "source": [
    "import math\n",
    "import numpy as np\n",
    "from scipy.stats import norm\n",
    "import matplotlib.pyplot as plt\n",
    "\n",
    "mu = 32\n",
    "sigma = 6\n",
    "lower, upper = 26, 38\n",
    "\n",
    "x = np.linspace(mu - 3*sigma, mu + 3*sigma, 100)\n",
    "\n",
    "plt.plot(x, norm.pdf(x, mu, sigma))\n",
    "plt.axvline(x=lower,color='orange')\n",
    "plt.axvline(x=upper, color='orange')\n",
    "\n",
    "plt.show()"
   ]
  },
  {
   "cell_type": "markdown",
   "metadata": {},
   "source": [
    "$$ X \\sim \\mathcal{N}(32,6^2) $$"
   ]
  },
  {
   "cell_type": "markdown",
   "metadata": {},
   "source": [
    "**b) Wie gross ist die Wahrscheinlichkeit, dass eine Bodenprobe höchstens 40 ppb Schwermetall enthält?**"
   ]
  },
  {
   "cell_type": "code",
   "execution_count": 52,
   "metadata": {},
   "outputs": [
    {
     "data": {
      "text/plain": [
       "0.9087887802741321"
      ]
     },
     "execution_count": 52,
     "metadata": {},
     "output_type": "execute_result"
    }
   ],
   "source": [
    "x = 40\n",
    "norm.cdf(x, loc=mu, scale=sigma)"
   ]
  },
  {
   "cell_type": "markdown",
   "metadata": {},
   "source": [
    "Überprüfen Sie das Resultat, indemSie die standardisierte Zufallsvariable $Z$ einführen und mit der Standardnormalverteilung die Wahrscheinlichkeit berechnen."
   ]
  },
  {
   "cell_type": "code",
   "execution_count": 53,
   "metadata": {},
   "outputs": [],
   "source": [
    "z = (x - mu) / sigma"
   ]
  },
  {
   "cell_type": "code",
   "execution_count": 54,
   "metadata": {},
   "outputs": [
    {
     "data": {
      "text/plain": [
       "0.9087887802741321"
      ]
     },
     "execution_count": 54,
     "metadata": {},
     "output_type": "execute_result"
    }
   ],
   "source": [
    "norm.cdf(z, loc=0, scale=1)"
   ]
  },
  {
   "cell_type": "markdown",
   "metadata": {},
   "source": [
    "**c) Wie gross ist die Wahrscheinlichkeit, dass eine Bodenprobe höchstens 27 ppb Schwermetall enthält?**"
   ]
  },
  {
   "cell_type": "code",
   "execution_count": 55,
   "metadata": {},
   "outputs": [
    {
     "data": {
      "text/plain": [
       "0.20232838096364308"
      ]
     },
     "execution_count": 55,
     "metadata": {},
     "output_type": "execute_result"
    }
   ],
   "source": [
    "x = 27\n",
    "norm.cdf(27, loc=mu, scale=sigma)"
   ]
  },
  {
   "cell_type": "markdown",
   "metadata": {},
   "source": [
    "**d) Welcher Bleigehalt wird mit einer Wahrscheinlichkeit von $97.5\\%$ unterschritten?**\n",
    "\n",
    "Das heisst, bestimmen Sie dasjenige $c$, so dass die Wahrscheinlichkeit, dass der Bleigehalt kleiner oder gleich $c$ ist, genau $97.5\\%$ beträgt."
   ]
  },
  {
   "cell_type": "code",
   "execution_count": 57,
   "metadata": {},
   "outputs": [
    {
     "data": {
      "text/plain": [
       "43.759783907240326"
      ]
     },
     "execution_count": 57,
     "metadata": {},
     "output_type": "execute_result"
    }
   ],
   "source": [
    "p = 0.975\n",
    "norm.ppf(p, loc=mu, scale=sigma)"
   ]
  },
  {
   "cell_type": "markdown",
   "metadata": {},
   "source": [
    "**e) Welcher Bleigehalt wird mit einerWahrscheinlichkeit von $10\\%$ unterschritten?**"
   ]
  },
  {
   "cell_type": "code",
   "execution_count": 58,
   "metadata": {},
   "outputs": [
    {
     "data": {
      "text/plain": [
       "24.310690606732397"
      ]
     },
     "execution_count": 58,
     "metadata": {},
     "output_type": "execute_result"
    }
   ],
   "source": [
    "p = 0.1\n",
    "norm.ppf(p, loc=mu, scale=sigma)"
   ]
  },
  {
   "cell_type": "markdown",
   "metadata": {},
   "source": [
    "**f) Wie gross ist die Wahrscheinlichkeit, die in Aufgabe a) eingezeichnet wurde?**"
   ]
  },
  {
   "cell_type": "code",
   "execution_count": 62,
   "metadata": {},
   "outputs": [
    {
     "data": {
      "text/plain": [
       "0.6826894921370859"
      ]
     },
     "execution_count": 62,
     "metadata": {},
     "output_type": "execute_result"
    }
   ],
   "source": [
    "norm.cdf(upper, loc=mu, scale=sigma) - norm.cdf(lower, loc=mu, scale=sigma)"
   ]
  },
  {
   "cell_type": "markdown",
   "metadata": {},
   "source": [
    "# Aufgabe 3.5"
   ]
  },
  {
   "cell_type": "markdown",
   "metadata": {},
   "source": [
    "Wir gehen davon aus, dass bei der Detektion eines digitalen Signals das Hintergrundrauschen einer Normalverteilung folgt, und zwar mit einem Mittelwert von 0 Volt und einer Standardabweichung von 0.45 Volt. Das System geht davon aus, dass eine digitale 1 übertragen worden ist, wenn die Spannung 0.9 Volt überstiegen worden ist."
   ]
  },
  {
   "cell_type": "markdown",
   "metadata": {},
   "source": [
    "**a) Wie gross ist die Wahrscheinlichkeit, dass eine 1 detektiert worden ist, wenn in Wahrheit keine gesendet wurde? Wie interpretieren Sie diese Wahrscheinlichkeit?**"
   ]
  },
  {
   "cell_type": "markdown",
   "metadata": {},
   "source": [
    "$$ X \\sim \\mathcal{N}(0,\\,0.45^{2}) $$"
   ]
  },
  {
   "cell_type": "code",
   "execution_count": 63,
   "metadata": {},
   "outputs": [
    {
     "data": {
      "text/plain": [
       "0.02275013194817921"
      ]
     },
     "execution_count": 63,
     "metadata": {},
     "output_type": "execute_result"
    }
   ],
   "source": [
    "mu    = 0\n",
    "sigma = 0.45\n",
    "\n",
    "1 - norm.cdf(0.9, loc=mu, scale=sigma)"
   ]
  },
  {
   "cell_type": "markdown",
   "metadata": {},
   "source": [
    "**b) Bestimmen Sie die symmetrischen Grenzen um 0 Volt, die 99% des Hintergrundrauschens einschliessen.**"
   ]
  },
  {
   "cell_type": "code",
   "execution_count": 71,
   "metadata": {},
   "outputs": [
    {
     "name": "stdout",
     "output_type": "stream",
     "text": [
      "-1.1591231865970053, 1.1591231865970053\n"
     ]
    }
   ],
   "source": [
    "p = 0.99\n",
    "x = norm.ppf((1- p)/2, loc=mu, scale=sigma) # untere Grenze\n",
    "print(str(x) + ', ' + str(-x)) # symmetrisch um Null\n"
   ]
  },
  {
   "cell_type": "markdown",
   "metadata": {},
   "source": [
    "**c) Nehmen Sie an, eine digitale 1 wird als eine Verschiebung des Mittelwertes um\n",
    "1.8 Volt im Vergleich zum Rauschsignal dargestellt. Die Standardabweichung\n",
    "des Signals ist ebenfalls 0.45 Volt. Wie gross ist die Wahrscheinlichkeit, dass\n",
    "eine digitale 1 nicht detektiert wird?**"
   ]
  },
  {
   "cell_type": "markdown",
   "metadata": {},
   "source": [
    "$$ X \\sim \\mathcal{N}(1.8,\\,0.45^{2}) $$"
   ]
  },
  {
   "cell_type": "code",
   "execution_count": 12,
   "metadata": {},
   "outputs": [
    {
     "data": {
      "text/plain": [
       "0.022750131948179195"
      ]
     },
     "execution_count": 12,
     "metadata": {},
     "output_type": "execute_result"
    }
   ],
   "source": [
    "mu = 1.8\n",
    "sigma = 0.45\n",
    "\n",
    "norm.cdf(x=0.9, loc=mu, scale=sigma)"
   ]
  },
  {
   "cell_type": "markdown",
   "metadata": {},
   "source": [
    "# Aufabe 3.6"
   ]
  },
  {
   "cell_type": "markdown",
   "metadata": {},
   "source": [
    "Der Schaftdurchmesser von optischen Speicherplatten ist normalverteilt mit einem Mittelwert von $0.2508$ Millimeter und Standardabweichung $0.0005$ Millimeter. Die technischen Angaben des Schafts sind $0.2500 ± 0.0015$ Millimeter."
   ]
  },
  {
   "cell_type": "markdown",
   "metadata": {},
   "source": [
    "$$ X \\sim \\mathcal{N}(0.2508,\\,0.0005^{2}) $$"
   ]
  },
  {
   "cell_type": "code",
   "execution_count": 13,
   "metadata": {},
   "outputs": [],
   "source": [
    "mu    = 0.2508\n",
    "sigma = 0.0005\n",
    "delta = 0.0015\n",
    "\n",
    "lower = 0.25 - delta\n",
    "upper = 0.25 + delta"
   ]
  },
  {
   "cell_type": "markdown",
   "metadata": {},
   "source": [
    "**a) Welcher Anteil der Schaftdurchmesser entspricht den technischen Angaben?**"
   ]
  },
  {
   "cell_type": "code",
   "execution_count": 14,
   "metadata": {},
   "outputs": [
    {
     "data": {
      "text/plain": [
       "0.91924122831152"
      ]
     },
     "execution_count": 14,
     "metadata": {},
     "output_type": "execute_result"
    }
   ],
   "source": [
    "norm.cdf(upper, loc=mu, scale=sigma) - norm.cdf(lower, loc=mu, scale=sigma)"
   ]
  },
  {
   "cell_type": "markdown",
   "metadata": {},
   "source": [
    "**b) Die meisten Schaftdurchmesser sind zu gross, da der Mittelwert der Herstellung\n",
    "sehr nahe an der oberen Grenze der technischen Angabe liegt. Wenn\n",
    "der Herstellungsprozess derart geändert wird, dass der Mittelwert der Schaftdurchmesser\n",
    "nun beim Zielwert von 0.2500 liegt,welcher Anteil entspricht dann\n",
    "den technischen Angaben?**"
   ]
  },
  {
   "cell_type": "code",
   "execution_count": 15,
   "metadata": {},
   "outputs": [
    {
     "data": {
      "text/plain": [
       "0.9973002039367398"
      ]
     },
     "execution_count": 15,
     "metadata": {},
     "output_type": "execute_result"
    }
   ],
   "source": [
    "mu    = 0.2500\n",
    "sigma = 0.0005\n",
    "delta = 0.0015\n",
    "\n",
    "lower = 0.25 - delta\n",
    "upper = 0.25 + delta\n",
    "\n",
    "norm.cdf(upper, loc=mu, scale=sigma) - norm.cdf(lower, loc=mu, scale=sigma)"
   ]
  },
  {
   "cell_type": "markdown",
   "metadata": {},
   "source": [
    "# Aufgabe 3.7"
   ]
  },
  {
   "cell_type": "markdown",
   "metadata": {},
   "source": [
    "Monte Carlo Algorithmen sind randomisierte Algorithmen und stellen ein gutes Werkzeug für Simulationen von stochastischen Prozessen dar. Auch die Zahl $\\pi$ lässt sich mit\n",
    "Hilfe von Monte Carlo Simulationen bestimmen. Im Folgenden möchten wir ein Computerprogramm erstellen, mit welchem man die Zahl $\\pi$ aufgrund von Monte Carlo Methoden simulieren kann. Man generiert hierzu zufällige Punkte\n",
    "\n",
    "$$ P \\in\\{(x, y) | x \\in[-1,1] \\text { und } y \\in[-1,1]\\} $$"
   ]
  },
  {
   "cell_type": "markdown",
   "metadata": {},
   "source": [
    "und überprüft, ob diese innerhalb des Einheitskreises mit Kreismittelpunkt $M_K = (0, 0)$ und Radius $r = 1$ liegen. Die sich ergebende Wahrscheinlichkeitsverteilung $P[(x, y) ∈ \\text{Kreis}]$ stellt die Fläche eines Viertels des Einheitskreises dar. $\\pi$ kann nun\n",
    "mit folgender Formel berechnet werden\n",
    "\n",
    "$$\n",
    "\\frac{\\text { Anzahl Treffer in Kreisfläche }}{\\text { Anzahl generierte Punkte Quadrat }}=\\frac{\\text { Kreisfläche }}{\\text { Quadratfläche }}\n",
    "$$\n",
    "\n",
    "$$ =\\frac{r^{2} \\cdot \\pi}{(2 \\cdot r)^{2}} $$\n",
    "\n",
    "$$ = \\frac{\\pi}{4} $$\n",
    "\n",
    "$$ =P[(x, y) \\in \\text { Kreis }] $$"
   ]
  },
  {
   "cell_type": "code",
   "execution_count": 86,
   "metadata": {},
   "outputs": [
    {
     "data": {
      "text/plain": [
       "100"
      ]
     },
     "execution_count": 86,
     "metadata": {},
     "output_type": "execute_result"
    }
   ],
   "source": [
    "# Generieren von 100 gleichmaessig verteilten\n",
    "# Zufallszahlen im Intervall [-1,1]\n",
    "from scipy.stats import uniform\n",
    "import numpy as np\n",
    "x = uniform.rvs(size=100, loc=-1, scale=2)\n",
    "# Bestimmen der Anzahl Zahlen kleiner als eins; Beispiel:\n",
    "# Anzahl von 100 zufaellig im Intervall [0,10] generierten\n",
    "# Zahlen, die kleiner als 1 sind:\n",
    "np.sum(x<1)"
   ]
  },
  {
   "cell_type": "markdown",
   "metadata": {},
   "source": [
    "**Bestimmen Sie mit Hilfe dieser Überlegung die Zahl $\\pi$.**"
   ]
  },
  {
   "cell_type": "code",
   "execution_count": 152,
   "metadata": {},
   "outputs": [
    {
     "name": "stdout",
     "output_type": "stream",
     "text": [
      "       n |      pi\n",
      "---------+----------\n",
      "      10 | 3.20000\n",
      "     100 | 3.04000\n",
      "    1000 | 3.07200\n",
      "   10000 | 3.15720\n",
      "  100000 | 3.14052\n",
      " 1000000 | 3.14027\n",
      "10000000 | 3.14128\n"
     ]
    }
   ],
   "source": [
    "\n",
    "\n",
    "print('%8s | %7s' % ('n', 'pi'))\n",
    "print('---------+----------')\n",
    "\n",
    "df.index = ['n', 'pi']\n",
    "ns = [10, 100, 1000, 10000, 100000, 1000000, 10000000]\n",
    "\n",
    "for n in ns:\n",
    "    x = uniform.rvs(size=n, loc=-1, scale=2)\n",
    "    y = uniform.rvs(size=n, loc=-1, scale=2)\n",
    "\n",
    "    pi = 4 * (np.sum(np.sqrt(x**2 + y**2) < 1)) / n\n",
    "    print('%8i | %1.5f' % (n, pi))\n"
   ]
  }
 ],
 "metadata": {
  "kernelspec": {
   "display_name": "Python 3",
   "language": "python",
   "name": "python3"
  },
  "language_info": {
   "codemirror_mode": {
    "name": "ipython",
    "version": 3
   },
   "file_extension": ".py",
   "mimetype": "text/x-python",
   "name": "python",
   "nbconvert_exporter": "python",
   "pygments_lexer": "ipython3",
   "version": "3.7.3"
  }
 },
 "nbformat": 4,
 "nbformat_minor": 2
}
