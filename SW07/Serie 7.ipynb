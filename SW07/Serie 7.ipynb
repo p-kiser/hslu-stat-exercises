{
 "cells": [
  {
   "cell_type": "markdown",
   "metadata": {},
   "source": [
    "# Aufgabe 7.1"
   ]
  },
  {
   "cell_type": "markdown",
   "metadata": {},
   "source": [
    "Old Faithful ist ein Geysir im Yellowstone National Park in Wyoming:\n",
    "\n",
    "https://en.wikipedia.org/wiki/Old_Faithful\n",
    "\n",
    "Im Datensatz oldfaithful.txt sind Längen von 272 aufeinanderfolgenden Ausbrüchen aufgeführt. "
   ]
  },
  {
   "cell_type": "markdown",
   "metadata": {},
   "source": [
    "**a) Schätzen Sie denMittelwert der Eruptionsdauern ab und geben Sie ein 95% Vertrauensintervall mit dem vereinfachten Bootstrap-Verfahren im Skript an. Verwenden Sie dazu $1000$ Bootstraps.**"
   ]
  },
  {
   "cell_type": "code",
   "execution_count": 10,
   "metadata": {},
   "outputs": [
    {
     "name": "stdout",
     "output_type": "stream",
     "text": [
      "Durchschnitt:  209.2683823529412\n",
      "Vertrauensintervall:  [200.89659926 217.47113971]\n"
     ]
    }
   ],
   "source": [
    "import numpy as np\n",
    "x = np.loadtxt(r\"./data/oldfaithful.txt\")\n",
    "n = np.size(x)\n",
    "print('Durchschnitt: ', np.mean(x))\n",
    "\n",
    "nboot = 1000\n",
    "tmpdata = np.random.choice(x, n*nboot, replace=True)\n",
    "bootstrapsample = np.reshape(tmpdata, (n, nboot))\n",
    "xbarstar = np.mean(bootstrapsample, axis=0)\n",
    "d = np.percentile(xbarstar, q=[2.5, 97.5])\n",
    "print('Vertrauensintervall: ',d)"
   ]
  },
  {
   "cell_type": "markdown",
   "metadata": {},
   "source": [
    "Das Vertrauensintervall ist also etwa\n",
    "\n",
    "$$I = [201, 218]$$"
   ]
  },
  {
   "cell_type": "markdown",
   "metadata": {},
   "source": [
    "**b) Machen Sie dasselbe für den Median.**"
   ]
  },
  {
   "cell_type": "code",
   "execution_count": 11,
   "metadata": {},
   "outputs": [
    {
     "name": "stdout",
     "output_type": "stream",
     "text": [
      "Median:  240.0\n"
     ]
    }
   ],
   "source": [
    "print('Median: ',np.median(x))"
   ]
  },
  {
   "cell_type": "code",
   "execution_count": 14,
   "metadata": {},
   "outputs": [
    {
     "name": "stdout",
     "output_type": "stream",
     "text": [
      "Vertrauensintervall:  [229.5 246.5]\n"
     ]
    }
   ],
   "source": [
    "nboot = 1000\n",
    "tmpdata = np.random.choice(x, n*nboot, replace=True)\n",
    "bootstrapsample = np.reshape(tmpdata, (n, nboot))\n",
    "xbarstar = np.median(bootstrapsample, axis=0)\n",
    "d = np.percentile(xbarstar, q=[2.5, 97.5])\n",
    "print('Vertrauensintervall: ',d)"
   ]
  },
  {
   "cell_type": "markdown",
   "metadata": {},
   "source": [
    "**c) Schätzen Sie die Wahrscheinlichkeit**\n",
    "\n",
    "$$ P(|\\overline{x}-\\mu|>5) $$\n",
    "\n",
    "**ab.**\n",
    "\n",
    "Ersetzen Sie zur Abschätzung μ durch den Mittelwert der Daten und x durch\n",
    "die Bootstraps."
   ]
  },
  {
   "cell_type": "code",
   "execution_count": 19,
   "metadata": {},
   "outputs": [
    {
     "name": "stdout",
     "output_type": "stream",
     "text": [
      "Wahrscheinlichkeit:  0.254\n"
     ]
    }
   ],
   "source": [
    "nboot = 1000\n",
    "tmpdata = np.random.choice(x, n*nboot, replace=True)\n",
    "bootstrapsample = np.reshape(tmpdata, (n, nboot))\n",
    "xbarstar = np.mean(bootstrapsample, axis=0) - np.mean(x)\n",
    "l = np.sum(xbarstar < -5)\n",
    "u = np.sum(xbarstar > 5)\n",
    "ratio = (l+u)/nboot\n",
    "\n",
    "print('Wahrscheinlichkeit: ', ratio)"
   ]
  },
  {
   "cell_type": "markdown",
   "metadata": {},
   "source": [
    "Die Wahrscheinlichkeit ist also etw 0.25, dass der Durschnitt der Messungen mehr als 5 Einheiten vom wahren Mittelwert abweicht."
   ]
  },
  {
   "cell_type": "markdown",
   "metadata": {},
   "source": [
    "# Aufgabe 7.2"
   ]
  },
  {
   "cell_type": "markdown",
   "metadata": {},
   "source": [
    "Aus der uniformen Verteilung $X \\sim Uniform([0, 10])$ soll eine Stichprobe vom Umfang $n$ gezogen werden."
   ]
  },
  {
   "cell_type": "markdown",
   "metadata": {},
   "source": [
    "**a) Es sei n = 60. Bestimmen Sie ein symmetrisches Intervall**\n",
    "\n",
    "$$\n",
    "I=\\left[\\mu_{X}-e, \\mu_{X}+e\\right]\n",
    "$$\n",
    "\n",
    "**um den Erwartungswert $μ_X$ so, dass sich das arithmetische Mittel der Stichprobe, also $\\bar{X}_{60}$, mit der Wahrscheinlichkeit von 95% in $I$ befindet. Ein solches\n",
    "Intervall heisst Prognoseintervall.**\n",
    "\n",
    "*Hinweis: Standardisieren Sie das arithmetische Mittel $\\bar{X}_n$ und benützen Sie den Zentralen Grenzwertsatz und $P(\\bar{X}_n ∈ I) = 0.95$.*\n",
    "\n"
   ]
  },
  {
   "cell_type": "markdown",
   "metadata": {},
   "source": [
    "Für uniforme Verteilungen gilt:\n",
    "\n",
    "$$E(X) = \\mu_X = \\frac{a+b}{2} = \\frac{0+10}{2} = 5$$\n",
    "\n",
    "$$\\sigma_X = \\frac{b-a}{\\sqrt{12}} = \\frac{5}{\\sqrt{3}}$$\n",
    "\n",
    "Zentraler Grenzwertsatz:\n",
    "\n",
    "$$\\bar{X}_n ~ N(\\mu_X, \\sigma^2_X/n)$$"
   ]
  },
  {
   "cell_type": "markdown",
   "metadata": {},
   "source": [
    "Standardisierte Verteilung des arithmetischen Mittels:\n",
    "    \n",
    "$$\\bar{Z}_n = \\frac{\\bar{X}_n - \\mu_X}{\\sigma_X / \\sqrt{n}} = \\frac{\\bar{X}_n -5}{5 / \\sqrt{3n}} \\sim \\mathcal{N}(0,1)$$\n",
    "\n",
    "Es gilt dann für das gesuchte Intervall $[\\mu - e, \\mu + e]$:\n",
    "\n",
    "$$\n",
    "\\begin{aligned} P\\left(\\mu_{X}-e \\leq \\overline{X}_{n} \\leq \\mu_{X}+e\\right) &=P\\left(-\\frac{e}{5 / \\sqrt{3 n}} \\leq \\frac{\\overline{X}_{n}-5}{5 / \\sqrt{3 n}} \\leq \\frac{e}{5 / \\sqrt{3 n}}\\right) \\\\ &=P\\left(-\\frac{e}{5 / \\sqrt{3 n}} \\leq Z_{n} \\leq \\frac{e}{5 / \\sqrt{3 n}}\\right) \\\\ &=\\Phi\\left(\\frac{e}{5 / \\sqrt{3 n}}\\right)-\\Phi\\left(-\\frac{e}{5 / \\sqrt{3 n}}\\right) \\\\ &=0.95 \\end{aligned}\n",
    "$$\n"
   ]
  },
  {
   "cell_type": "markdown",
   "metadata": {},
   "source": [
    "Da die Standardnormalverteilung symmetrisch ist, müssen wir nur eine Seite betrachten. $\\Phi\\left(\\frac{e}{5 / \\sqrt{3 n}}\\right)$ soll also $97.5\\%$ der Fläche unter Gesamtkurve entsprechen:\n",
    "\n",
    "$$\n",
    "\\frac{e}{5 / \\sqrt{3 n}}=q_{0.975}=\\Phi^{-1}(0.975)=1.96\n",
    "$$\n",
    "\n",
    "Also ist\n",
    "\n",
    "$$\n",
    "e=\\frac{5}{\\sqrt{3 n}} \\cdot q_{0.975}=\\frac{5}{\\sqrt{3 \\cdot 60}} \\cdot 1.96=0.73\n",
    "$$\n",
    "\n",
    "Das Intervall ist also \n",
    "\n",
    "$$𝐼=[𝜇𝑋−𝑒,𝜇𝑋+0.73] = [5−0.73,5+0.73] = [4.27, 5.73]$$"
   ]
  },
  {
   "cell_type": "markdown",
   "metadata": {},
   "source": [
    "**b) Umgekehrt: Wie gross muss n gewählt werden, damit e = 0.2 wird?**"
   ]
  },
  {
   "cell_type": "markdown",
   "metadata": {},
   "source": [
    "$$\n",
    "\\begin{aligned}\n",
    "e=0.2&=\\frac{5}{\\sqrt{3 n}} \\cdot 1.96 &&\\vert \\cdot \\sqrt{3n} \\\\\n",
    "0.2 \\cdot \\sqrt{3 n} &=  9.8  &&\\vert \\cdot 5 \\\\\n",
    "\\sqrt{3 n} &= 49 &&\\vert ^2 \\\\\n",
    "3n &= 2401 && \\vert \\cdot \\frac{1}{3} \\\\\n",
    "n &= 800.\\bar{3}\n",
    "\\end{aligned}\n",
    "$$"
   ]
  },
  {
   "cell_type": "markdown",
   "metadata": {},
   "source": [
    "**c) Überprüfen Sie a) experimentell, d. h. mit Python : ziehen Sie viele Stichproben (z. B. 200) und zählen Sie, wie viele ausserhalb von $I$ liegen.**"
   ]
  },
  {
   "cell_type": "code",
   "execution_count": 46,
   "metadata": {},
   "outputs": [
    {
     "data": {
      "image/png": "[encoded data removed]",
      "text/plain": [
       "<Figure size 1152x576 with 1 Axes>"
      ]
     },
     "metadata": {
      "needs_background": "light"
     },
     "output_type": "display_data"
    }
   ],
   "source": [
    "from scipy.stats import uniform\n",
    "import matplotlib.pyplot as plt\n",
    "import numpy as np\n",
    "import matplotlib\n",
    "\n",
    "matplotlib.rcParams['figure.figsize'] = [16, 8]\n",
    "\n",
    "n = 60 \n",
    "size = 200 # Anzahl Stichproben\n",
    "\n",
    "# X_1,...,X_n simulieren und in einer\n",
    "# n-spaltigen Matrix (mit 200 Zeilen) anordnen\n",
    "sim = uniform.rvs(size=size*n, loc=0, scale=10)\n",
    "sim = sim.reshape(size, n)\n",
    "# In jeder Matrixzeile Mittelwert berechnen\n",
    "sim_mean = sim.mean(axis=1)\n",
    "plt.plot(np.arange(1,201,1),sim_mean, 'r')\n",
    "# Zeichnen Sie mit axhline(y=...) die\n",
    "# Intervallgrenzen des Prognoseintervalls\n",
    "# in der obigen Graphik ein.\n",
    "plt.axhline(y=5.73, linewidth=4, color='b')\n",
    "plt.axhline(y=4.27, linewidth=4, color='b')\n",
    "plt.show()"
   ]
  },
  {
   "cell_type": "markdown",
   "metadata": {},
   "source": [
    "**Stichproben ausserhalb des Intervalls**\n",
    "\n",
    "Erwartet werden etwa $0.05 \\cdot 200 = 10$:"
   ]
  },
  {
   "cell_type": "code",
   "execution_count": 44,
   "metadata": {},
   "outputs": [
    {
     "name": "stdout",
     "output_type": "stream",
     "text": [
      "Stichproben ausserhalb des Intervalls:  12\n"
     ]
    }
   ],
   "source": [
    "from scipy.stats import uniform\n",
    "import matplotlib.pyplot as plt\n",
    "import numpy as np\n",
    "n = 60\n",
    "sim = uniform.rvs(size=200*n, loc=0, scale=10)\n",
    "sim = sim.reshape(200, n)\n",
    "d = np.sum(sim_mean>5.73) + np.sum(sim_mean<4.27)\n",
    "print(\"Stichproben ausserhalb des Intervalls: \",d)"
   ]
  },
  {
   "cell_type": "markdown",
   "metadata": {},
   "source": [
    "# Aufgabe 7.3"
   ]
  },
  {
   "cell_type": "markdown",
   "metadata": {},
   "source": [
    "Aufgrund langjähriger Untersuchungen ist bekannt, dass der Bleigehalt $X$ von gewissen Bodenproben annähernd normal-verteilt ist\n",
    "\n",
    "$$\n",
    "X \\sim \\mathcal{N}\\left(\\mu, \\sigma^{2}\\right)\n",
    "$$"
   ]
  },
  {
   "cell_type": "markdown",
   "metadata": {},
   "source": [
    "**a) Es wurden in 10 Bodenproben der Bleigehalt $X$ gemessen. Dabei wurde ein Mittelwert von $\\bar{x}_{10} = 31$ ppb erhalten. Die Standardabweichung sei bekannt und beträgt 6 ppb.**\n",
    "\n",
    "**Geben Sie das zweiseitige 99% Vertrauensintervall für den Mittelwert an.**"
   ]
  },
  {
   "cell_type": "markdown",
   "metadata": {},
   "source": [
    "Der Bleigehalt ist (annähernd) normalverteilt:\n",
    "\n",
    "$$\n",
    "X_{i} \\sim \\mathcal{N}\\left(\\mu, \\sigma^{2}\\right)\n",
    "$$\n",
    "\n",
    "Der wahre Mittelwert $\\mu$ ist nicht bekannt. $\\overline{X}_n$ ist ebenfalls normalverteilt:\n",
    "\n",
    "$$\n",
    "\\overline{X}_{n} \\sim \\mathcal{N}\\left(\\mu, \\sigma^{2} / n\\right)\n",
    "$$\n",
    "\n",
    "\n",
    "In unserem Fall ist also $\\overline{X}_{10}$ normalverteilt mit Varianz $\\sigma^2 / n = \\frac{36}{20} = 3.6$ und $\\mu$ unbekannt."
   ]
  },
  {
   "cell_type": "code",
   "execution_count": null,
   "metadata": {},
   "outputs": [],
   "source": [
    "# TODO"
   ]
  },
  {
   "cell_type": "markdown",
   "metadata": {},
   "source": [
    "**b) Wie viele Beobachtungen sind nötig, um die Breite des in Teilaufgabe a) bestimmten\n",
    "zweiseitigen Vertrauensintervalls auf die Hälfte zu reduzieren?**"
   ]
  },
  {
   "cell_type": "markdown",
   "metadata": {},
   "source": [
    "Wie viele (unabhängige) Bestimmungen des Bleigehalts müssen geplant werden,\n",
    "falls der Bleigehalt mit einer Stichprobe „1 ppb genau” bestimmt werden\n",
    "soll, d. h., wenn die Breite des 99% des Konfidenzintervalls nicht grösser als\n",
    "1 ppb sein soll?"
   ]
  },
  {
   "cell_type": "code",
   "execution_count": null,
   "metadata": {},
   "outputs": [],
   "source": [
    "# TODO"
   ]
  },
  {
   "cell_type": "markdown",
   "metadata": {},
   "source": [
    "**c) Normalerweise ist die Standardabweichung s unbekannt. Um welchen Faktor\n",
    "verändert sich die Breite des zweiseitigen Vertrauensintervalls in Teilaufgabe a),\n",
    "wenn man die Standardabweichung aus den Daten geschätzt hat, also $\\hat{\\sigma} = 6$ ?**"
   ]
  },
  {
   "cell_type": "code",
   "execution_count": 48,
   "metadata": {},
   "outputs": [
    {
     "data": {
      "text/plain": [
       "(24.833870595963425, 37.166129404036575)"
      ]
     },
     "execution_count": 48,
     "metadata": {},
     "output_type": "execute_result"
    }
   ],
   "source": [
    "from scipy.stats import norm, t\n",
    "import numpy as np\n",
    "t.interval(alpha=0.99, df=9, loc=31, scale=6/np.sqrt(10))"
   ]
  },
  {
   "cell_type": "markdown",
   "metadata": {},
   "source": [
    "Für $\\hat{\\sigma} = 6$, $n = 10$ und $\\overline{x}_{10} = 31$ ergibt sich das Vertrauensintervall $[24.8, 37.2]$.\n",
    "\n",
    "Das Vertrauensintervall ist um 26% grösser geworden."
   ]
  },
  {
   "cell_type": "markdown",
   "metadata": {},
   "source": [
    "# Aufgabe 7.4"
   ]
  },
  {
   "cell_type": "markdown",
   "metadata": {},
   "source": [
    "Im National Bureau of Standards (USA) wurden regelmässig Wägungen des 10-Gramm-Standardgewichtstücks durchgeführt. Bei 9 Wägungen erhielt man als durchschnittliche Differenz −403 Mikrogramm vom 10 Gramm-Sollgewicht und eine Standardabweichung von 3.127 Mikrogramm für eine einzelne Wägung."
   ]
  },
  {
   "cell_type": "markdown",
   "metadata": {},
   "source": [
    "Gegeben: $n=9,\\overline{x}_n=-403\\mu g,\\hat{\\sigma}_x=3.127\\mu g$"
   ]
  },
  {
   "cell_type": "markdown",
   "metadata": {},
   "source": [
    "**a) Geben Sie das exakte, zweiseitige 95%-Vertrauensintervall für die wahre Differenz\n",
    "an, unter der Annahme, dass die Messfehler normal-verteilt sind.**"
   ]
  },
  {
   "cell_type": "markdown",
   "metadata": {},
   "source": [
    "$X \\sim \\mathcal{N}(\\mu, \\sigma_x^2), \\alpha=95\\%$\n",
    "\n",
    "Wahres $\\sigma$ unbekannt $\\rightarrow$ t-Verteilung:\n",
    "\n",
    "$$ I = \\Big[ \\overline{x}_n + z_{\\frac{1-\\alpha}{2}} \\cdot \\frac{\\hat{\\sigma}_x}{\\sqrt{n}}, \\overline{x}_n + z_{\\alpha+\\frac{1-\\alpha}{2}} \\cdot \\frac{\\hat{\\sigma}_x}{\\sqrt{n}}  \\Big] $$$$ z_{\\frac{1-\\alpha}{2}} = z_{0.025}, z_{\\alpha+\\frac{1-\\alpha}{2}} = z_{0.975} $$"
   ]
  },
  {
   "cell_type": "code",
   "execution_count": 53,
   "metadata": {},
   "outputs": [
    {
     "name": "stdout",
     "output_type": "stream",
     "text": [
      "-2.306, 2.306\n"
     ]
    }
   ],
   "source": [
    "from scipy.stats import t\n",
    "\n",
    "n = 9\n",
    "alpha = 0.95\n",
    "\n",
    "z0025 = t.ppf(q=(1-alpha)/2, df=n-1)\n",
    "z0975 = t.ppf(q=alpha+(1-alpha)/2, df=n-1)\n",
    "print('{:.3f}, {:.3f}'.format(z0025, z0975))"
   ]
  },
  {
   "cell_type": "markdown",
   "metadata": {},
   "source": [
    "$$ \\pm 2.306 \\cdot \\frac{\\hat{\\sigma}_x}{\\sqrt{n}} = 2.306 \\cdot \\frac{3.127\\mu g}{\\sqrt{9}} = \\pm 2.404 \\mu g $$"
   ]
  },
  {
   "cell_type": "code",
   "execution_count": 52,
   "metadata": {},
   "outputs": [
    {
     "data": {
      "text/plain": [
       "(-405.40362497674977, -400.59637502325023)"
      ]
     },
     "execution_count": 52,
     "metadata": {},
     "output_type": "execute_result"
    }
   ],
   "source": [
    "from math import sqrt\n",
    "\n",
    "t.interval(alpha=0.95, df=8, loc=-403, scale=3.127/sqrt(9))"
   ]
  },
  {
   "cell_type": "markdown",
   "metadata": {},
   "source": [
    "$$ \\underline{\\underline{I = [-405.4 \\mu g, -400.6 \\mu g]}} $$"
   ]
  },
  {
   "cell_type": "markdown",
   "metadata": {},
   "source": [
    "**b) Könnte die wahre Differenz −400.0 μg betragen? Entscheiden Sie aufgrund des Resultats in Aufgabe a). (Kurze Begründung)**"
   ]
  },
  {
   "cell_type": "markdown",
   "metadata": {},
   "source": [
    "Da $-400.0\\mu g$ nicht in einem Vertrauensintervall von $95\\%$ liegt, würde die Nullhypothese $H_0$ zugunsten der Alternativhypothese $H_A$ verworfen werden.\n",
    "\n",
    "Die Wahrscheinlichkeit, dass die wahre Differenz $-400.0\\mu g$ beträgt, liegt ca. bei $1\\%$:\n",
    "\n",
    "$$ 403\\mu g - 400\\mu g = 3 \\mu g$$$$ z \\cdot \\frac{3.127\\mu g}{\\sqrt{9}} = 3 \\mu g \\Leftrightarrow z = \\frac{3\\mu g\\sqrt{9}}{3.127\\mu g} $$"
   ]
  },
  {
   "cell_type": "code",
   "execution_count": 54,
   "metadata": {},
   "outputs": [
    {
     "data": {
      "text/plain": [
       "0.010284811560763774"
      ]
     },
     "execution_count": 54,
     "metadata": {},
     "output_type": "execute_result"
    }
   ],
   "source": [
    "z = (3 * sqrt(9)) / 3.127\n",
    "1-t.cdf(x=z, df=8)"
   ]
  },
  {
   "cell_type": "markdown",
   "metadata": {},
   "source": [
    "# Aufgabe 7.5"
   ]
  },
  {
   "cell_type": "markdown",
   "metadata": {},
   "source": [
    "Eine Brücke soll aufgrund des höheren Verkehrsaufkommens renoviert werden. Im\n",
    "Bau wurden damals Schrauben mit einer mittleren Festigkeit von $500N/mm^2$ benutzt.\n",
    "Da dies für nicht mehr sicher genug gehalten wird, sollen diese nun durch\n",
    "Schrauben mit einer mittleren Festigkeit von mehr als $500N/mm^2$ ersetzt werden.\n",
    "Um diesen Anforderungen gerecht zu werden, hat der alte Schraubenlieferant ein\n",
    "neues Verfahren entwickelt. Zur Baustelle werden allerdings unbeschriftete Schrauben\n",
    "geliefert, aus denen nicht sofort hervorgeht, ob es sich um die alten 500er oder\n",
    "um die neuen verbesserten Schrauben handelt.\n",
    "Vor dem Verbau will der leitende Ingenieur zuerst sicherstellen, dass es sich um die\n",
    "besseren Schrauben handelt. Um dies herauszufinden, werden einige der Schrauben\n",
    "vermessen und ein statistischer Test durchgeführt. Je nach Ergebnis sollen die Schrauben\n",
    "verbaut oder zurückgeschickt werden.\n",
    "\n",
    "```\n",
    "Schraubenfestigkeit (Xi): 520, 512, 499, 524, 505\n",
    "```\n",
    "\n",
    "Für den empirischen Mittelwert und empirische Varianz ergeben sich bei obiger Stichprobe $\\overline{x}_5 = 512$ und $s^2_x = 106.5$.\n",
    "\n",
    "Wir modellieren die Daten mit einer Normalverteilung, d. h. $Xi i.i.d. ∼ N(μ, \\sigma^2)$."
   ]
  },
  {
   "cell_type": "markdown",
   "metadata": {},
   "source": [
    "**a) Stellen Sie die geeigneten Null- und Alternativhypothesen auf und begründen Sie Ihre Wahl.**"
   ]
  },
  {
   "cell_type": "markdown",
   "metadata": {},
   "source": [
    "* $H_0: \\mu = 500$\n",
    "* $H_A: \\mu > 500$\n",
    "\n",
    "Wir wollen vermeiden, Schrauben fälschlicherweise als neue Schrauben zu bezeichen. Deshalb wird dieser Fall zum Fehler erster Art.\n",
    "\n",
    "Es wird ein einseitiger Test durchgeführt, da uns nur interessiert, ob $\\mu$ *grösser* als 500 ist. Deshalb führen wir einen einseitigen Test durch."
   ]
  },
  {
   "cell_type": "markdown",
   "metadata": {},
   "source": [
    "**b) Sie führen nun einen einseitigen t-Test zum Niveau $\\alpha = 0.05$ durch (unabhängig von Ihrer obigen Antwort). Stellen Sie die Teststatistik $T$ auf und berechnen Sie deren Wert. Geben Sie die Verteilung der Teststatistik $T$ unter $H_0$ und den Verwerfungsbereich des Tests an. Was ist der Testentscheid?**"
   ]
  },
  {
   "cell_type": "code",
   "execution_count": 70,
   "metadata": {},
   "outputs": [
    {
     "name": "stdout",
     "output_type": "stream",
     "text": [
      "Mittelwert:\t 512.0\n",
      "Varianz:\t 106.5\n",
      "\n",
      "Verwerfungsbereich:\t[509.8, ∞)\n"
     ]
    }
   ],
   "source": [
    "import numpy as np\n",
    "from scipy.stats import norm, t\n",
    "from pandas import Series\n",
    "\n",
    "x = Series([520, 512, 499, 524, 505])\n",
    "\n",
    "print(\"Mittelwert:\\t\", x.mean())\n",
    "print(\"Varianz:\\t\", x.var())\n",
    "print()\n",
    "\n",
    "d = t.ppf(q=0.95, df=x.size-1, loc=500, scale=x.std()/np.sqrt(x.size))\n",
    "\n",
    "print(\"Verwerfungsbereich:\\t[%.1f, ∞)\" % d)"
   ]
  },
  {
   "cell_type": "markdown",
   "metadata": {},
   "source": [
    "Der Wert $\\overline{x}_5 = 512$ liegt im Verwerfungsbereich. Die Nullhypothese wird also verworfen.\n",
    "\n",
    "Die Schrauben sind statistisch signifikant stärker."
   ]
  },
  {
   "cell_type": "markdown",
   "metadata": {},
   "source": [
    "*Bonus: Berechung von Hand*\n",
    "\n",
    "Teststatistik:\n",
    "\n",
    "$$\n",
    "T=\\sqrt{n} \\frac{\\overline{X}_{n}-\\mu}{\\hat{\\sigma}}=\\sqrt{5} \\frac{\\overline{X}_{n}-500}{\\hat{\\sigma}}\n",
    "$$\n",
    "\n",
    "Empirischer Mittelwert:\n",
    "\n",
    "$$\n",
    "\\overline{x}_5 = 512\n",
    "$$\n",
    "\n",
    "Empirische Varianz:\n",
    "\n",
    "$$\n",
    "\\sigma^2 = \\frac{1}{4}\\sum_{i=1}^5(x_i-\\overline{x}_5)^2 = 106.5\n",
    "$$\n",
    "\n",
    "Daraus ergibt sich:\n",
    "\n",
    "$$\n",
    "t= \\frac{512-500}{\\sqrt{106.5 / 5}} \\approx 2.6\n",
    "$$\n",
    "\n",
    "T ist t-verteilt mit 4 Freiheitsgraden."
   ]
  },
  {
   "cell_type": "code",
   "execution_count": 72,
   "metadata": {},
   "outputs": [
    {
     "name": "stdout",
     "output_type": "stream",
     "text": [
      "p-Wert:  2.13184678133629\n"
     ]
    }
   ],
   "source": [
    "from scipy.stats import t\n",
    "p = t.ppf(q=0.95, df=4)\n",
    "print(\"p-Wert:\", p)"
   ]
  },
  {
   "cell_type": "markdown",
   "metadata": {},
   "source": [
    "Die Nullhypothese wird demnach abgelehnt."
   ]
  },
  {
   "cell_type": "markdown",
   "metadata": {},
   "source": [
    "**c) Berechnen Sie ein (zweiseitiges) 95%-Vertrauensintervall für $μ$.**"
   ]
  },
  {
   "cell_type": "markdown",
   "metadata": {},
   "source": [
    "$$\n",
    "\\mathrm{VI} :=\\left[\\overline{x}_{5}-\\frac{\\hat{\\sigma} t_{n-1 ; 1-\\alpha / 2}}{\\sqrt{5}} ; \\overline{x}_{5}+\\frac{\\hat{\\sigma} t_{n-1 ; 1-\\alpha / 2}}{\\sqrt{5}}\\right]\n",
    "$$"
   ]
  },
  {
   "cell_type": "code",
   "execution_count": 77,
   "metadata": {},
   "outputs": [
    {
     "data": {
      "text/plain": [
       "(499.1861719188852, 524.8138280811148)"
      ]
     },
     "execution_count": 77,
     "metadata": {},
     "output_type": "execute_result"
    }
   ],
   "source": [
    "t.interval(alpha=0.95, df=x.size-1, loc=x.mean(), scale=x.std()/np.sqrt(x.size))"
   ]
  },
  {
   "cell_type": "code",
   "execution_count": 78,
   "metadata": {},
   "outputs": [
    {
     "data": {
      "text/plain": [
       "array([499.18617192, 524.81382808])"
      ]
     },
     "execution_count": 78,
     "metadata": {},
     "output_type": "execute_result"
    }
   ],
   "source": [
    "t.ppf(q=[0.025,0.975], df=x.size-1, loc=x.mean(), scale=x.std()/np.sqrt(x.size))"
   ]
  },
  {
   "cell_type": "markdown",
   "metadata": {},
   "source": [
    "Das Vertrauensintervall ist also $VI \\approx [499.1862,524.8138]$."
   ]
  },
  {
   "cell_type": "markdown",
   "metadata": {},
   "source": [
    "**d) Wie würde das entsprechende Vertrauensintervall von c) aussehen, wenn wir die Streuung als bekannt voraussetzen würden (mit dem gleichen Wert wie der beobachtete)?**"
   ]
  },
  {
   "cell_type": "markdown",
   "metadata": {},
   "source": [
    "$$\n",
    "\\mathrm{VI} :=\\left[\\hat{\\mu}-\\frac{\\sigma z_{1-\\alpha / 2}}{\\sqrt{5}} ; \\hat{\\mu}+\\frac{\\sigma z_{1-\\alpha / 2}}{\\sqrt{5}}\\right]\n",
    "$$"
   ]
  },
  {
   "cell_type": "code",
   "execution_count": 79,
   "metadata": {},
   "outputs": [
    {
     "data": {
      "text/plain": [
       "(502.95438930304954, 521.0456106969505)"
      ]
     },
     "execution_count": 79,
     "metadata": {},
     "output_type": "execute_result"
    }
   ],
   "source": [
    "norm.interval(alpha=0.95, loc=x.mean(), scale=x.std()/np.sqrt(x.size))"
   ]
  },
  {
   "cell_type": "code",
   "execution_count": 80,
   "metadata": {},
   "outputs": [
    {
     "data": {
      "text/plain": [
       "array([502.9543893, 521.0456107])"
      ]
     },
     "execution_count": 80,
     "metadata": {},
     "output_type": "execute_result"
    }
   ],
   "source": [
    "norm.ppf(q=[0.025,0.975], loc=x.mean(),\n",
    "scale=x.std()/np.sqrt(x.size))"
   ]
  },
  {
   "cell_type": "markdown",
   "metadata": {},
   "source": [
    "Das Vertrauensintervall wäre also $VI \\approx [502.9544,521.0456]$."
   ]
  },
  {
   "cell_type": "markdown",
   "metadata": {},
   "source": [
    "**e) Betrachten Sie (unabhängig von dem oben aufgeführten Beispiel) einen einseitigen t-Test von $H_0 : μ = 0$ gegen $H_A : μ > 0$ zum Niveau $\\alpha = 0.05$.**\n",
    "\n",
    "Obwohl die beobachteten $n$ Datenpunkte einen empirischen Mittelwert grösser Null haben, ergeben die Berechnungen, dass die Nullhypothese nicht verworfen wird.\n",
    "\n",
    "Entscheiden Sie, ob folgende Aussagen wahr oder falsch sind."
   ]
  },
  {
   "cell_type": "markdown",
   "metadata": {},
   "source": [
    "| Aussage | Richtig | Falsch |\n",
    "| --- |:---:|:---:|\n",
    "| Man verwirft $H_0$ für kein Niveau $\\alpha < 0.05$| x | |\n",
    "| Es gibt ein Niveau $\\alpha < 1$, bei dem man $H_0$ verwirft | x | |\n",
    "| Der $p$-Wert ist strikt kleiner als 0.5 | x | |\n",
    "| Führt man statt einese einseitigen einenn zweiseitigen Test zum Niveau 0.05 durch, verwirft man $H_0$ nicht | x | |\n",
    "| Wenn man die Daten immer öfter kopiert (d. h., man betrachtet jeden Datenpunkt $k$-Mal, so dass man insgesamt $k · n$ Datenpunkte erhält), verwirft man $H_0$ für ein grosses $k$ beim Niveau 0.05. | x | |"
   ]
  }
 ],
 "metadata": {
  "kernelspec": {
   "display_name": "Python 3",
   "language": "python",
   "name": "python3"
  },
  "language_info": {
   "codemirror_mode": {
    "name": "ipython",
    "version": 3
   },
   "file_extension": ".py",
   "mimetype": "text/x-python",
   "name": "python",
   "nbconvert_exporter": "python",
   "pygments_lexer": "ipython3",
   "version": "3.7.3"
  }
 },
 "nbformat": 4,
 "nbformat_minor": 2
}
