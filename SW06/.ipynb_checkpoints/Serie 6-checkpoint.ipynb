{
 "cells": [
  {
   "cell_type": "markdown",
   "metadata": {},
   "source": [
    "# Aufgabe 6.1"
   ]
  },
  {
   "cell_type": "markdown",
   "metadata": {},
   "source": [
    "Ein Weinhändler behauptet, dass die von ihm gefüllten Weinflaschen 70 Zentiliter\n",
    "enthalten. Ein skeptischer Konsument vermutet aber, dass der Weinhändler zu wenig\n",
    "Wein abfüllt und will diese Behauptung überprüfen. Deshalb kauft er 12 Weinflaschen\n",
    "und misst ihren Inhalt. Er findet:\n",
    "\n",
    "$$71, 69, 67, 68, 73, 72, 71, 71, 68, 72, 69, 72\\ (in\\ Zentiliter)$$\n",
    "\n",
    "Nehmen Sie zunächst an, dass die Standardabweichung der Abfüllung im Voraus bekannt ist. Sie beträgt $σ = 1.5$ Zentiliter. Da die Standardabweichung der Messungen bekannt ist, können wir einen z-Test durchführen. Führen Sie den (einseitigen; in\n",
    "welche Richtung?) Test auf dem 5 %- Signifikanzniveau durch.\n",
    "\n",
    "Geben Sie die Modellannahmen, $H_0$, $H_A$, den Verwerfungsbereich, den Wert der Teststatistik und das Testergebnis explizit an.\n",
    "\n",
    "Formulieren Sie in einem Satz die Schlussfolgerung für den kritischen Konsumenten."
   ]
  },
  {
   "cell_type": "code",
   "execution_count": 13,
   "metadata": {},
   "outputs": [],
   "source": [
    "import numpy as np\n",
    "from scipy.stats import norm\n",
    "\n",
    "sample = np.array([71, 69, 67, 68, 73, 72, 71, 71, 68, 72, 69, 72])\n",
    "n = sample.size # 12\n",
    "a = 0.05\n",
    "mu = 70\n",
    "sigma = 1.5"
   ]
  },
  {
   "cell_type": "markdown",
   "metadata": {},
   "source": [
    "- Anzahl Messungen: $n = 12$\n",
    "- Signifikanzniveau: $\\alpha = 5 \\%$\n",
    "\n",
    "**Modell**: \n",
    "\n",
    "$X_i \\sim \\mathcal{N}(\\mu,\\,\\sigma^{2}),\\ \\mu = 70,\\ \\sigma = 1.5$\n",
    "\n",
    "**Null- / Alternativhypothese:**\n",
    "\n",
    "- $H_0$: $\\mu = 70$\n",
    "- $H_A$: $\\mu < 70$\n",
    "\n",
    "**Teststatistik** unter $H_0$: \n",
    "\n",
    "$\\bar{X}_{12} \\sim \\mathcal{N}\\Big(70,\\frac{1.5^2}{12}\\Big)$\n"
   ]
  },
  {
   "cell_type": "code",
   "execution_count": 14,
   "metadata": {},
   "outputs": [
    {
     "data": {
      "text/plain": [
       "69.28775748677653"
      ]
     },
     "execution_count": 14,
     "metadata": {},
     "output_type": "execute_result"
    }
   ],
   "source": [
    "norm.ppf(q=0.05, loc=70, scale=1.5/np.sqrt(n))"
   ]
  },
  {
   "cell_type": "markdown",
   "metadata": {},
   "source": [
    "**Verwerfungsbereich** für die Teststatistik: $[-\\infty, 69.29]$"
   ]
  },
  {
   "cell_type": "code",
   "execution_count": 15,
   "metadata": {},
   "outputs": [
    {
     "data": {
      "text/plain": [
       "70.25"
      ]
     },
     "execution_count": 15,
     "metadata": {},
     "output_type": "execute_result"
    }
   ],
   "source": [
    "sample.mean()"
   ]
  },
  {
   "cell_type": "markdown",
   "metadata": {},
   "source": [
    "**Testergebnis**:\n",
    "\n",
    "$$70.25 \\notin [-\\infty, 69.29]$$\n",
    "\n",
    "Dieser Wert ist ausserhalb des Verwerfungsbereichs, die Nullhypothese kann somit _nicht_ verworfen werden.\n",
    "\n",
    "**Schlussfolgerung**:\n",
    "\n",
    "Aufgrund der Stichprobe muss man davon ausgehen, dass der Weinhändler nicht zuwenig Wein abgefüllt hat."
   ]
  },
  {
   "cell_type": "markdown",
   "metadata": {},
   "source": [
    "# Aufgabe 6.2"
   ]
  },
  {
   "cell_type": "markdown",
   "metadata": {},
   "source": [
    "Ein Weinhändler behauptet, dass die von ihm gefüllten Weinflaschen 70 Zentiliter\n",
    "enthalten. Ein skeptischer Konsument vermutet aber, dass der Weinhändler zu wenig\n",
    "Wein abfüllt und will diese Behauptung überprüfen. Deshalb kauft er 12 Weinflaschen\n",
    "und misst ihren Inhalt. Er findet:\n",
    "\n",
    "$$71, 69, 67, 68, 73, 72, 71, 71, 68, 72, 69, 72\\ (in\\ Zentiliter)$$\n",
    "\n",
    "Die Standardabweichung der Abfüllungen ist nicht bekannt. Man muss sie also aus\n",
    "den gemachten Stichproben schätzen:\n",
    "\n",
    "$$ \\hat{\\sigma}_{x}^{2}=\\frac{1}{n-1} \\sum_{i=1}^{n}\\left(x_{i}-\\overline{x}\\right)^{2} \\approx 1.96^{2} $$\n",
    "\n",
    "Da die Standardabweichung geschätzt wurde und nicht mehr exakt bekannt ist, kann\n",
    "der z-Test nicht durchgeführt werden. Verwenden Sie nun den t-Test auf dem 5 %-\n",
    "Signifikanzniveau.\n",
    "\n",
    "Geben Sie die Modellannahmen, $H_0$, $H_A$, den Verwerfungsbereich, den Wert der Teststatistik und das Testergebnis explizit an."
   ]
  },
  {
   "cell_type": "markdown",
   "metadata": {},
   "source": [
    "**Modell**: $$X_i \\sim \\mathcal{N}(\\mu,\\,\\sigma^{2}),\\ \\mu = 70,\\ \\sigma =\\ unbekannt$$\n",
    "\n",
    "**Nullhypothese $H_0$**: $\\mu = 70$\n",
    "\n",
    "**Alternativhypothese $H_A$**: $\\mu < 70$\n",
    "\n",
    "**Teststatistik**: t-Verteilung mit Freiheitsgrad 11\n",
    "\n",
    "**Signifikanzbereich**: $\\alpha = 5\\%$\n",
    "\n",
    "**$\\hat{\\sigma}$**: 1.96"
   ]
  },
  {
   "cell_type": "code",
   "execution_count": 17,
   "metadata": {},
   "outputs": [
    {
     "name": "stdout",
     "output_type": "stream",
     "text": [
      "std: 1.8763883748662837\n"
     ]
    },
    {
     "data": {
      "text/plain": [
       "69.02722905653552"
      ]
     },
     "execution_count": 17,
     "metadata": {},
     "output_type": "execute_result"
    }
   ],
   "source": [
    "from scipy.stats import t\n",
    "\n",
    "print(\"std: \" + str(sample.std()))\n",
    "\n",
    "t.ppf(q=0.05, df=n-1, loc=70, scale=sample.std()/np.sqrt(n))"
   ]
  },
  {
   "cell_type": "markdown",
   "metadata": {},
   "source": [
    "**Verwerfungsbereich**: $[-\\infty, 69.03]$\n",
    "\n",
    "**Testergebnis:**"
   ]
  },
  {
   "cell_type": "code",
   "execution_count": 12,
   "metadata": {},
   "outputs": [
    {
     "data": {
      "text/plain": [
       "1.8763883748662837"
      ]
     },
     "execution_count": 12,
     "metadata": {},
     "output_type": "execute_result"
    }
   ],
   "source": [
    "sample.std()"
   ]
  },
  {
   "cell_type": "markdown",
   "metadata": {},
   "source": [
    "# Aufgabe 6.3"
   ]
  },
  {
   "cell_type": "markdown",
   "metadata": {},
   "source": [
    "Unterhalb einer Kläranlage wurden 16 unabhängige Wasserproben aus einem Fluss\n",
    "entnommen und jeweils deren Ammoniumkonzentration $X_i$ (in $μg$ NH_4-N/l) mit\n",
    "einem Messgerät bestimmt. Der Mittelwert der Proben ergab $\\bar{x}_{16} = 204.2$.\n",
    "\n",
    "Wir wollen nun wissen, ob mit diesem Experiment eine Überschreitung des Grenzwerts\n",
    "von 200 $μg$ NH_4-N/l nachgewiesen werden kann (auf dem 5% Niveau)."
   ]
  },
  {
   "cell_type": "markdown",
   "metadata": {},
   "source": [
    "**a) Nehmen Sie an, die Standardabweichung der Messungen sei im Voraus aufgrund\n",
    "früherer Studien bekannt. Sie betrage 10 μg NH_4-N/l.**\n",
    "\n",
    "**Führen Sie unter dieser Annahme einen z-Test durch, um zu prüfen, ob eine\n",
    "Grenzwertüberschreitung nachgewiesen werden kann.**\n",
    "\n",
    "**Geben Sie die Modellannahmen, $H_0$, $H_A$, den Verwerfungsbereich, den Wert\n",
    "der Teststatistik und das Testergebnis explizit an.**"
   ]
  },
  {
   "cell_type": "markdown",
   "metadata": {},
   "source": [
    "- **Modell**: $X_i \\sim \\mathcal{N}(\\mu,\\,\\sigma^{2}),\\ \\sigma =\\ 10$\n",
    "- **Nullhypothese** $H_0 : \\mu_0 = 200$\n",
    "- **Alternativhypothese** $H_A : \\mu > 200$ (einseitiger Test nach oben)\n",
    "- **Verteilung der Teststatistik unter $H_0$**: t-Verteilung mit 15 Freiheitsgraden\n",
    "\n",
    "$$ T \\sim t_{15}$$\n",
    "\n",
    "- **Signifikanz-Niveau**: $\\alpha = 0.05$"
   ]
  },
  {
   "cell_type": "code",
   "execution_count": 8,
   "metadata": {},
   "outputs": [
    {
     "data": {
      "text/plain": [
       "204.1121340673787"
      ]
     },
     "execution_count": 8,
     "metadata": {},
     "output_type": "execute_result"
    }
   ],
   "source": [
    "import numpy as np\n",
    "from scipy.stats import norm\n",
    "\n",
    "norm.ppf(q=0.95, loc=200, scale=10/np.sqrt(16))"
   ]
  },
  {
   "cell_type": "markdown",
   "metadata": {},
   "source": [
    "- **Verwerfungbereich** $K = [204.11, \\infty)$"
   ]
  },
  {
   "cell_type": "markdown",
   "metadata": {},
   "source": [
    "* **Testentscheid**: $\\bar{x}_{16} = 204.2 \\in K$\n",
    "\n",
    "    Die Nullhypothese wird also verworfen. Ein Überschreitung des Grenzwertes ist (mit einem Signifikanz-Niveau von 5%) nachgewiesen."
   ]
  },
  {
   "cell_type": "markdown",
   "metadata": {},
   "source": [
    "**b)  Wie wahrscheinlich ist es, dass man mit 16 unabhängigen Wasserproben eine Grenzwertüberschreitung nachweisen kann, wenn die wahre Ammoniumkonzentration tatsächlich über dem Grenzwert, und zwar bei 205 μg NH_4-N/l\n",
    "liegt?**"
   ]
  },
  {
   "cell_type": "code",
   "execution_count": 2,
   "metadata": {},
   "outputs": [
    {
     "data": {
      "text/plain": [
       "0.6390797174095532"
      ]
     },
     "execution_count": 2,
     "metadata": {},
     "output_type": "execute_result"
    }
   ],
   "source": [
    "import numpy as np\n",
    "from scipy.stats import norm\n",
    "1-norm.cdf(x=204.11, loc=205, scale=10/np.sqrt(16))"
   ]
  },
  {
   "cell_type": "markdown",
   "metadata": {},
   "source": [
    "Bei einem wahren Mittelwert von 205 sind etwa 63.9% der Werte höher als der gemessene Mittelwert $\\bar{x}_{16} = 204.2$. Der Test hat also eine Macht von rund 64%."
   ]
  },
  {
   "cell_type": "markdown",
   "metadata": {},
   "source": [
    "**c) Wie wahrscheinlich ist es, dass man mit 16 unabhängigen Wasserproben fälschlicherweise eine Grenzwertüberschreitung nachweist, obwohl die wahre Ammoniumkonzentration bei 200 μg NH-4-N/l liegt und den Grenzwert somit genau einhält?**"
   ]
  },
  {
   "cell_type": "markdown",
   "metadata": {},
   "source": [
    "Dies entspricht gerade dem Signifikanz-Niveau (5%)."
   ]
  },
  {
   "cell_type": "markdown",
   "metadata": {},
   "source": [
    "**d) Nehmen Sie an, dass die Standardabweichung von 10 μg/l aus den 16 Proben geschätzt worden ist. Deshalb ist nun ein t-Test (Nullhypothese $μ_0 = 200$ μg/l) und nicht ein z-Test angebracht. Führen Sie den t-Test durch.**"
   ]
  },
  {
   "cell_type": "markdown",
   "metadata": {},
   "source": [
    "- **Modell**: $X_i \\sim \\mathcal{N}(\\mu,\\,\\sigma^{2}),\\ \\hat{\\sigma} =\\ 10$\n",
    "- **Nullhypothese** $H_0 : \\mu_0 = 200$\n",
    "- **Alternativhypothese** $H_A : \\mu > 200$ (einseitiger Test nach oben)\n",
    "- **Verteilung der Teststatistik unter $H_0$**:\n",
    "\n",
    "$$ \\bar{X}_{16} \\sim \\mathcal{N}(200, \\frac{10^2}{16})$$\n",
    "\n",
    "- **Signifikanz-Niveau**: $\\alpha = 0.05$"
   ]
  },
  {
   "cell_type": "code",
   "execution_count": 9,
   "metadata": {},
   "outputs": [
    {
     "data": {
      "text/plain": [
       "204.38262588923138"
      ]
     },
     "execution_count": 9,
     "metadata": {},
     "output_type": "execute_result"
    }
   ],
   "source": [
    "import numpy as np\n",
    "from scipy.stats import t\n",
    "\n",
    "t.ppf(q=0.95, loc=200, df=15, scale=10/np.sqrt(16))"
   ]
  },
  {
   "cell_type": "markdown",
   "metadata": {},
   "source": [
    "- **Verwerfungbereich** $K = [204.38, \\infty)$\n",
    "* **Testentscheid**: $\\bar{x}_{16} = 204.2 \\notin K$\n",
    "\n",
    "Die Nullhypothese wird **nicht** verworfen. Ein Überschreitung des Grenzwertes ist (mit einem Signifikanz-Niveau von 5%)  **nicht** nachgewiesen.\n"
   ]
  },
  {
   "cell_type": "markdown",
   "metadata": {},
   "source": [
    "**e) Welche Annahmen des t-Testes könnte verletzt sein und dazu führen, dass der\n",
    "t-Test schlechte Macht hat?**"
   ]
  },
  {
   "cell_type": "markdown",
   "metadata": {},
   "source": [
    "Die Stichprobe ist zu klein. Je grösser die Stichprobe, desto besser ist der t-Test."
   ]
  },
  {
   "cell_type": "code",
   "execution_count": null,
   "metadata": {},
   "outputs": [],
   "source": []
  }
 ],
 "metadata": {
  "kernelspec": {
   "display_name": "Python 3",
   "language": "python",
   "name": "python3"
  },
  "language_info": {
   "codemirror_mode": {
    "name": "ipython",
    "version": 3
   },
   "file_extension": ".py",
   "mimetype": "text/x-python",
   "name": "python",
   "nbconvert_exporter": "python",
   "pygments_lexer": "ipython3",
   "version": "3.7.3"
  }
 },
 "nbformat": 4,
 "nbformat_minor": 2
}
