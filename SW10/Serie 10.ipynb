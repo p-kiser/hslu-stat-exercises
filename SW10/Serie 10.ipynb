{
 "cells": [
  {
   "cell_type": "markdown",
   "metadata": {},
   "source": [
    "# Aufgabe 10.1"
   ]
  },
  {
   "cell_type": "markdown",
   "metadata": {},
   "source": [
    "Der Fachartikel _Compression of Single-Wall Corrugated Containers Using Fixed and Floating Test Platens_ (J. Testing and Evaluation, 1992: 318-320) beschreibt ein Experiment, in dem verschiedene Typen von Container-Hüllen in Bezug auf Druckfestigkeit (lb) verglichen wurden.\n",
    "\n",
    "```\n",
    "Typ            Druckfestigkeit\n",
    " 1  655.5 788.3 734.3 721.4 679.1 699.4\n",
    " 2  789.2 772.5 786.9 686.1 732.1 774.8\n",
    " 3  737.1 639.0 696.3 671.7 717.2 727.1\n",
    " 4  535.1 628.7 542.4 559.0 586.9 520.0\n",
    "```"
   ]
  },
  {
   "cell_type": "markdown",
   "metadata": {},
   "source": [
    "**a) Geben Sie die Daten selber in Python ein, und stellen Sie sie mit Stripcharts\n",
    "und Boxplots dar.**"
   ]
  },
  {
   "cell_type": "code",
   "execution_count": 2,
   "metadata": {},
   "outputs": [
    {
     "data": {
      "text/plain": [
       "Text(0, 0.5, 'Druckfestigkeit')"
      ]
     },
     "execution_count": 2,
     "metadata": {},
     "output_type": "execute_result"
    },
    {
     "data": {
      "image/png": "[encoded data removed]",
      "text/plain": [
       "<Figure size 432x288 with 1 Axes>"
      ]
     },
     "metadata": {
      "needs_background": "light"
     },
     "output_type": "display_data"
    }
   ],
   "source": [
    "from pandas import DataFrame\n",
    "import pandas as pd\n",
    "import numpy as np\n",
    "import seaborn as sns\n",
    "import matplotlib.pyplot as plt\n",
    "import scipy.stats as st\n",
    "\n",
    "df=DataFrame({\n",
    "\"Typ\": np.repeat([\"T1\", \"T2\", \"T3\", \"T4\"], [6, 6, 6, 6]),\n",
    "\"Druckfestigkeit\" : [655.5, 788.3, 734.3, 721.4, 679.1, 699.4,\n",
    "789.2, 772.5, 786.9, 686.1, 732.1, 774.8,\n",
    "737.1, 639.0, 696.3, 671.7, 717.2, 727.1,\n",
    "535.1, 628.7, 542.4, 559.0, 586.9, 520.0]\n",
    "})\n",
    "\n",
    "# Stripchart\n",
    "sns.stripplot(x=\"Typ\", y=\"Druckfestigkeit\", data=df)\n",
    "plt.xlabel(\"Typ\")\n",
    "plt.ylabel(\"Druckfestigkeit\")"
   ]
  },
  {
   "cell_type": "code",
   "execution_count": 13,
   "metadata": {},
   "outputs": [
    {
     "data": {
      "image/png": "[encoded data removed]",
      "text/plain": [
       "<Figure size 432x288 with 1 Axes>"
      ]
     },
     "metadata": {
      "needs_background": "light"
     },
     "output_type": "display_data"
    }
   ],
   "source": [
    "# Boxplot\n",
    "sns.boxplot(x=\"Typ\", y=\"Druckfestigkeit\", data=df)\n",
    "plt.xlabel(\"Typ\")\n",
    "plt.ylabel(\"Druckfestigkeit\")\n",
    "plt.show()"
   ]
  },
  {
   "cell_type": "markdown",
   "metadata": {},
   "source": [
    "**b) Wie lautet ein Gruppenmittelmodell passend zum Datensatz und zur Fragestellung?\n",
    "Schätzen Sie die Parameter Ihres Modelles.**"
   ]
  },
  {
   "cell_type": "markdown",
   "metadata": {},
   "source": [
    "Gruppenmittelmodell:\n",
    "\n",
    "$$\n",
    "Y_{i j}=\\mu+\\tau_{i}+\\varepsilon_{i j}\n",
    "$$\n",
    "\n",
    "Mit:\n",
    "\n",
    "- $\\mu$: globaler, gemeinsamer Parameter über alle Gruppen\n",
    "- $\\tau_i$: behandlungsspezifische Abweichung vom globalen Parameter $\\mu$\n",
    "- $\\varepsilon_{ij}$: Fehlerterm\n",
    "\n",
    "Paremetrisierung:\n",
    "\n",
    "$$ \\mu = \\mu_1 \\rightarrow \\tau_1 = 0 $$\n",
    "\n",
    "* $\\tau_1 = 0$, $\\tau_2 = 43.933333$, $\\tau_3 = -14.933333$, $\\tau_3 = -150.983333$"
   ]
  },
  {
   "cell_type": "code",
   "execution_count": 12,
   "metadata": {},
   "outputs": [
    {
     "name": "stdout",
     "output_type": "stream",
     "text": [
      "Intercept    713.000000\n",
      "Typ[T.T2]     43.933333\n",
      "Typ[T.T3]    -14.933333\n",
      "Typ[T.T4]   -150.983333\n",
      "dtype: float64\n"
     ]
    }
   ],
   "source": [
    "from statsmodels.formula.api import ols\n",
    "from statsmodels.stats.anova import anova_lm\n",
    "\n",
    "fit = ols('Druckfestigkeit~Typ', data=df).fit()\n",
    "print(fit.params)"
   ]
  },
  {
   "cell_type": "markdown",
   "metadata": {},
   "source": [
    "**c) Besteht ein Unterschied zwischen den Hüllentypen? Führen Sie einen statistischen Hypothesentest auf dem 5% Niveau durch.**"
   ]
  },
  {
   "cell_type": "markdown",
   "metadata": {},
   "source": [
    "Nullhypothese $H_0$: Typen lassen sich nicht unterscheiden.\n",
    "\n",
    "Gruppenmittelwerte:\n",
    "\n",
    "$$\\mu_1 = \\mu_2 = \\mu_3 = \\mu_4$$\n",
    "\n",
    "Behandlungseffekte:\n",
    "\n",
    "$$\\tau_1 = \\tau_2 = \\tau_3 = \\tau_4$$\n",
    "\n",
    "Alternativhypothese: Mindestens ein Gruppenpaar $i$ und $j$ unterscheiden sich mit Gruppenmittelwert:\n",
    "\n",
    "$$\\mu_i \\neq \\mu_j$$"
   ]
  },
  {
   "cell_type": "code",
   "execution_count": 13,
   "metadata": {},
   "outputs": [
    {
     "data": {
      "text/html": [
       "<div>\n",
       "<style scoped>\n",
       "    .dataframe tbody tr th:only-of-type {\n",
       "        vertical-align: middle;\n",
       "    }\n",
       "\n",
       "    .dataframe tbody tr th {\n",
       "        vertical-align: top;\n",
       "    }\n",
       "\n",
       "    .dataframe thead th {\n",
       "        text-align: right;\n",
       "    }\n",
       "</style>\n",
       "<table border=\"1\" class=\"dataframe\">\n",
       "  <thead>\n",
       "    <tr style=\"text-align: right;\">\n",
       "      <th></th>\n",
       "      <th>df</th>\n",
       "      <th>sum_sq</th>\n",
       "      <th>mean_sq</th>\n",
       "      <th>F</th>\n",
       "      <th>PR(&gt;F)</th>\n",
       "    </tr>\n",
       "  </thead>\n",
       "  <tbody>\n",
       "    <tr>\n",
       "      <th>Typ</th>\n",
       "      <td>3.0</td>\n",
       "      <td>127374.754583</td>\n",
       "      <td>42458.251528</td>\n",
       "      <td>25.094289</td>\n",
       "      <td>5.525450e-07</td>\n",
       "    </tr>\n",
       "    <tr>\n",
       "      <th>Residual</th>\n",
       "      <td>20.0</td>\n",
       "      <td>33838.975000</td>\n",
       "      <td>1691.948750</td>\n",
       "      <td>NaN</td>\n",
       "      <td>NaN</td>\n",
       "    </tr>\n",
       "  </tbody>\n",
       "</table>\n",
       "</div>"
      ],
      "text/plain": [
       "            df         sum_sq       mean_sq          F        PR(>F)\n",
       "Typ        3.0  127374.754583  42458.251528  25.094289  5.525450e-07\n",
       "Residual  20.0   33838.975000   1691.948750        NaN           NaN"
      ]
     },
     "execution_count": 13,
     "metadata": {},
     "output_type": "execute_result"
    }
   ],
   "source": [
    "fit = ols(\"Druckfestigkeit~Typ\", data=df).fit()\n",
    "anova_lm(fit)"
   ]
  },
  {
   "cell_type": "markdown",
   "metadata": {},
   "source": [
    "Der p-Wert ($5.5e-7$) ist kleiner als das Signifikanzniveau 5%. Die Nullhypothese wird also verworfen.\n",
    "\n",
    "Diese Erkenntnis ist auch schon an den Boxplots ersichtlich: Typ 4 unterscheidet sich deutlich von den anderen."
   ]
  },
  {
   "cell_type": "markdown",
   "metadata": {},
   "source": [
    "# Aufgabe 10.2"
   ]
  },
  {
   "cell_type": "markdown",
   "metadata": {},
   "source": [
    "24 Tiere werden zufällig zu 4 unterschiedlichen Ernährungsdiäten zugeordnet, um den Effekt auf die Blutkoagulationszeit zu untersuchen.\n",
    "\n",
    "```\n",
    "Behandlung Koagulationszeit\n",
    "A          62 60 63 59\n",
    "B          63 67 71 64 65 66\n",
    "C          68 66 71 67 68 68\n",
    "D          56 62 60 61 63 64 63 59\n",
    "```"
   ]
  },
  {
   "cell_type": "markdown",
   "metadata": {},
   "source": [
    "**a) Geben Sie die Daten selber in Python ein, und stellen Sie sie mit Stripcharts\n",
    "und Boxplots dar.**"
   ]
  },
  {
   "cell_type": "code",
   "execution_count": 18,
   "metadata": {},
   "outputs": [
    {
     "data": {
      "image/png": "[encoded data removed]",
      "text/plain": [
       "<Figure size 1152x576 with 1 Axes>"
      ]
     },
     "metadata": {
      "needs_background": "light"
     },
     "output_type": "display_data"
    },
    {
     "data": {
      "image/png": "[encoded data removed]",
      "text/plain": [
       "<Figure size 1152x576 with 1 Axes>"
      ]
     },
     "metadata": {
      "needs_background": "light"
     },
     "output_type": "display_data"
    }
   ],
   "source": [
    "import numpy as np\n",
    "import pandas as pd\n",
    "import seaborn as sns\n",
    "import matplotlib as mpl\n",
    "from matplotlib import pyplot as plt\n",
    "\n",
    "mpl.rcParams['figure.figsize'] = [16, 8]\n",
    "\n",
    "df = pd.DataFrame({\n",
    "    'Behandlung': np.repeat(['A', 'B', 'C', 'D'], [4, 6, 6, 8]),\n",
    "    'Koagulationszeit': [\n",
    "        62, 60, 63, 59,\n",
    "        63, 67, 71, 64, 65, 66,\n",
    "        68, 66, 71, 67, 68, 68,\n",
    "        56, 62, 60, 61, 63, 64, 63, 59\n",
    "    ]\n",
    "})\n",
    "\n",
    "sns.stripplot(x='Behandlung', y='Koagulationszeit', data=diets)\n",
    "plt.xlabel('Behandlung')\n",
    "plt.ylabel('Koagulationszeit')\n",
    "plt.show()\n",
    "\n",
    "sns.boxplot(x='Behandlung', y='Koagulationszeit', data=diets)\n",
    "plt.xlabel('Behandlung')\n",
    "plt.ylabel('Koagulationszeit')\n",
    "plt.show()"
   ]
  },
  {
   "cell_type": "markdown",
   "metadata": {},
   "source": [
    "**b) Berechnen Sie den globalen Mittelwert (grand mean) und die Gruppenmittelwerte\n",
    "mit Hilfe eines Taschenrechners.**"
   ]
  },
  {
   "cell_type": "markdown",
   "metadata": {},
   "source": [
    "Grand mean: \n",
    "\n",
    "$$\n",
    "\\begin{aligned} \\overline{y}_{ . .} &=\\frac{1}{n} \\sum_{i=1}^{g} \\sum_{j=1}^{n_{i}} y_{i j} \\\\ &=\\frac{1}{24} \\sum_{i=1}^{4} \\sum_{j=1}^{n_{i}} y_{i j} \\\\ &=64 \\end{aligned}\n",
    "$$"
   ]
  },
  {
   "cell_type": "code",
   "execution_count": 31,
   "metadata": {},
   "outputs": [
    {
     "data": {
      "text/plain": [
       "64.0"
      ]
     },
     "execution_count": 31,
     "metadata": {},
     "output_type": "execute_result"
    }
   ],
   "source": [
    "x = df[\"Koagulationszeit\"]\n",
    "x.sum() / x.size"
   ]
  },
  {
   "cell_type": "markdown",
   "metadata": {},
   "source": [
    "Gruppenmittelwerte:\n",
    "\n",
    "* $\\mu_A = 61$\n",
    "* $\\mu_B = 66$\n",
    "* $\\mu_C = 68$\n",
    "* $\\mu_D = 61$\n",
    "    "
   ]
  },
  {
   "cell_type": "code",
   "execution_count": 65,
   "metadata": {},
   "outputs": [
    {
     "name": "stdout",
     "output_type": "stream",
     "text": [
      "Mean A = 61.0\n",
      "Mean B = 66.0\n",
      "Mean C = 68.0\n",
      "Mean D = 61.0\n"
     ]
    }
   ],
   "source": [
    "for b in ['A', 'B', 'C', 'D']:\n",
    "    \n",
    "    mean = df.loc[df['Behandlung'] == b].mean()\n",
    "    print(\"Mean\",b,\"=\",float(mean))"
   ]
  },
  {
   "cell_type": "markdown",
   "metadata": {},
   "source": [
    "**c) Berechnen Sie mit Hilfe eines Taschenrechners die empirischen Gruppenvarianzen**\n",
    "\n",
    "$$\n",
    "s_{i}^{2}=\\frac{1}{n_{i}-1} \\sum_{j=1}^{n_{i}} r_{i j}^{2}=\\frac{1}{n_{i}-1} \\sum_{j=1}^{n_{i}}\\left(y_{i j}-y_{i-}\\right)^{2}\n",
    "$$"
   ]
  },
  {
   "cell_type": "code",
   "execution_count": 67,
   "metadata": {},
   "outputs": [
    {
     "name": "stdout",
     "output_type": "stream",
     "text": [
      "Var A = 3.3333333333333335\n",
      "Var B = 8.0\n",
      "Var C = 2.8\n",
      "Var D = 6.857142857142857\n",
      "20.99047619047619\n"
     ]
    }
   ],
   "source": [
    "test = 0\n",
    "\n",
    "for b in ['A', 'B', 'C', 'D']:\n",
    "    \n",
    "    var = df.loc[df['Behandlung'] == b].var()\n",
    "    print(\"Var\",b,\"=\",float(var))\n",
    "    test = test + float(var)\n",
    "print(test)"
   ]
  },
  {
   "cell_type": "markdown",
   "metadata": {},
   "source": [
    "**d) Berechnen Sie die pooled Varianz $S^2_{Pool}$, resp. $MS_E$.**"
   ]
  },
  {
   "cell_type": "markdown",
   "metadata": {},
   "source": [
    "$$\n",
    "\\begin{array}{c}{\\mathrm{SS}_{E}=\\sum_{i}^{g} \\sum_{j}^{n_{i}}\\left(y_{i j}-\\hat{y}_{i.}\\right)^{2}=112} \\\\ {\\mathrm{MS}_{E}=\\frac{1}{n-g} \\mathrm{SS}_{E}=\\frac{1}{24-4} 112=5.6}\\end{array}\n",
    "$$"
   ]
  },
  {
   "cell_type": "code",
   "execution_count": 68,
   "metadata": {},
   "outputs": [],
   "source": [
    "# TODO: Berechnen mit Python"
   ]
  },
  {
   "cell_type": "markdown",
   "metadata": {},
   "source": [
    "**e) Berechnen Sie $MS_G$ und vergleichen Sie den Wert mit $MS_E$.**"
   ]
  },
  {
   "cell_type": "markdown",
   "metadata": {},
   "source": [
    "$$\n",
    "\\begin{array}{c}{\\mathrm{SS}_{G}=\\sum_{i}^{g} \\sum_{j}^{n_{i}}\\left(Y_{i j}-\\hat{Y} .\\right)^{2}=228} \\\\ {\\mathrm{MS}_{G}=\\frac{1}{g-1} \\mathrm{SS}_{G}=76}\\end{array}\n",
    "$$"
   ]
  },
  {
   "cell_type": "markdown",
   "metadata": {},
   "source": [
    "Die Varianz zwischen den Gruppen $MS_E$ ist viel grösser als die Varianz innerhalb der Gruppen $MS_G$. Das deutet auf einen Einfluss der Diät auf die Koagulationszeit hin."
   ]
  },
  {
   "cell_type": "markdown",
   "metadata": {},
   "source": [
    "**f) Konstruieren Sie eine ANOVA Tabelle mit Hilfe von Python.**"
   ]
  },
  {
   "cell_type": "code",
   "execution_count": 71,
   "metadata": {},
   "outputs": [
    {
     "data": {
      "text/plain": [
       "Intercept          6.100000e+01\n",
       "Behandlung[T.B]    5.000000e+00\n",
       "Behandlung[T.C]    7.000000e+00\n",
       "Behandlung[T.D]   -3.907985e-14\n",
       "dtype: float64"
      ]
     },
     "execution_count": 71,
     "metadata": {},
     "output_type": "execute_result"
    }
   ],
   "source": [
    "from statsmodels.formula.api import ols\n",
    "\n",
    "fit = ols('Koagulationszeit~Behandlung', data=diets).fit()\n",
    "fit.params"
   ]
  },
  {
   "cell_type": "code",
   "execution_count": 70,
   "metadata": {},
   "outputs": [
    {
     "data": {
      "text/html": [
       "<div>\n",
       "<style scoped>\n",
       "    .dataframe tbody tr th:only-of-type {\n",
       "        vertical-align: middle;\n",
       "    }\n",
       "\n",
       "    .dataframe tbody tr th {\n",
       "        vertical-align: top;\n",
       "    }\n",
       "\n",
       "    .dataframe thead th {\n",
       "        text-align: right;\n",
       "    }\n",
       "</style>\n",
       "<table border=\"1\" class=\"dataframe\">\n",
       "  <thead>\n",
       "    <tr style=\"text-align: right;\">\n",
       "      <th></th>\n",
       "      <th>df</th>\n",
       "      <th>sum_sq</th>\n",
       "      <th>mean_sq</th>\n",
       "      <th>F</th>\n",
       "      <th>PR(&gt;F)</th>\n",
       "    </tr>\n",
       "  </thead>\n",
       "  <tbody>\n",
       "    <tr>\n",
       "      <th>Behandlung</th>\n",
       "      <td>3.0</td>\n",
       "      <td>228.0</td>\n",
       "      <td>76.0</td>\n",
       "      <td>13.571429</td>\n",
       "      <td>0.000047</td>\n",
       "    </tr>\n",
       "    <tr>\n",
       "      <th>Residual</th>\n",
       "      <td>20.0</td>\n",
       "      <td>112.0</td>\n",
       "      <td>5.6</td>\n",
       "      <td>NaN</td>\n",
       "      <td>NaN</td>\n",
       "    </tr>\n",
       "  </tbody>\n",
       "</table>\n",
       "</div>"
      ],
      "text/plain": [
       "              df  sum_sq  mean_sq          F    PR(>F)\n",
       "Behandlung   3.0   228.0     76.0  13.571429  0.000047\n",
       "Residual    20.0   112.0      5.6        NaN       NaN"
      ]
     },
     "execution_count": 70,
     "metadata": {},
     "output_type": "execute_result"
    }
   ],
   "source": [
    "from statsmodels.stats.anova import anova_lm\n",
    "anova_lm(fit)"
   ]
  },
  {
   "cell_type": "markdown",
   "metadata": {},
   "source": [
    "**g) Besteht ein signifikanter Unterschied zwischen den Behandlungsarten in Bezug\n",
    "auf die Koagulationszeit? Führen Sie einen statistischen Hypothesentest auf\n",
    "dem 5% Niveau durch.**"
   ]
  },
  {
   "cell_type": "code",
   "execution_count": 20,
   "metadata": {},
   "outputs": [
    {
     "data": {
      "text/html": [
       "<div>\n",
       "<style scoped>\n",
       "    .dataframe tbody tr th:only-of-type {\n",
       "        vertical-align: middle;\n",
       "    }\n",
       "\n",
       "    .dataframe tbody tr th {\n",
       "        vertical-align: top;\n",
       "    }\n",
       "\n",
       "    .dataframe thead th {\n",
       "        text-align: right;\n",
       "    }\n",
       "</style>\n",
       "<table border=\"1\" class=\"dataframe\">\n",
       "  <thead>\n",
       "    <tr style=\"text-align: right;\">\n",
       "      <th></th>\n",
       "      <th>df</th>\n",
       "      <th>sum_sq</th>\n",
       "      <th>mean_sq</th>\n",
       "      <th>F</th>\n",
       "      <th>PR(&gt;F)</th>\n",
       "    </tr>\n",
       "  </thead>\n",
       "  <tbody>\n",
       "    <tr>\n",
       "      <th>Behandlung</th>\n",
       "      <td>3.0</td>\n",
       "      <td>228.0</td>\n",
       "      <td>76.0</td>\n",
       "      <td>13.571429</td>\n",
       "      <td>0.000047</td>\n",
       "    </tr>\n",
       "    <tr>\n",
       "      <th>Residual</th>\n",
       "      <td>20.0</td>\n",
       "      <td>112.0</td>\n",
       "      <td>5.6</td>\n",
       "      <td>NaN</td>\n",
       "      <td>NaN</td>\n",
       "    </tr>\n",
       "  </tbody>\n",
       "</table>\n",
       "</div>"
      ],
      "text/plain": [
       "              df  sum_sq  mean_sq          F    PR(>F)\n",
       "Behandlung   3.0   228.0     76.0  13.571429  0.000047\n",
       "Residual    20.0   112.0      5.6        NaN       NaN"
      ]
     },
     "execution_count": 20,
     "metadata": {},
     "output_type": "execute_result"
    }
   ],
   "source": []
  },
  {
   "cell_type": "markdown",
   "metadata": {},
   "source": [
    "Da die transformierte Teststatistik mit F = 13.57 einen P-Wert von 5e − 5 hat\n",
    "und somit kleiner als das Niveau 5% ist, wird die Nullhypothese verworfen\n",
    "und es gilt die Alternative."
   ]
  }
 ],
 "metadata": {
  "kernelspec": {
   "display_name": "Python 3",
   "language": "python",
   "name": "python3"
  },
  "language_info": {
   "codemirror_mode": {
    "name": "ipython",
    "version": 3
   },
   "file_extension": ".py",
   "mimetype": "text/x-python",
   "name": "python",
   "nbconvert_exporter": "python",
   "pygments_lexer": "ipython3",
   "version": "3.7.3"
  }
 },
 "nbformat": 4,
 "nbformat_minor": 2
}
