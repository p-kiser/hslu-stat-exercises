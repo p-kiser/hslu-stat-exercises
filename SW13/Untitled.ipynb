{
 "cells": [
  {
   "cell_type": "markdown",
   "metadata": {},
   "source": [
    "# Aufgabe 13.1"
   ]
  },
  {
   "cell_type": "markdown",
   "metadata": {},
   "source": [
    "Es sei $\\{X_1, X_2, . . . \\}$ ein diskreter stochastischer Prozess. Zeigen Sie, dass\n",
    "\n",
    "$$\\gamma (i, j) = E(X_iX_j) − μ(i)μ(j).$$"
   ]
  },
  {
   "cell_type": "markdown",
   "metadata": {},
   "source": [
    "Ein stochatischer Prozess ist ein theoretisches Konstrukt, ein Modell einer Zeitreihe (konkrete Beobachtungen).\n",
    "\n",
    "Die Autokovarianz $\\gamma x$ ist definiert als:\n",
    "\n",
    "$$\\gamma x = Cov(X_i, Y_i) = \\gamma x(i,j) = E[(X_i - \\mu(i))(X_j - \\mu(j))]$$\n",
    "\n",
    "Daraus folgt:\n",
    "\n",
    "$$\\gamma(i,j)$$\n",
    "\n",
    "$$= E\\big( (X_i - \\mu(i)) (X_j - \\mu(j)) \\big)$$\n",
    "\n",
    "$$= E\\big((X_iX_j) - \\mu(i)X_j\\ - \\mu(j)X_i + \\mu(i)\\mu(j) \\big)$$\n",
    "\n",
    "$$?= E(X_iX_j) - \\mu(i)\\mu(j) - \\mu(j)\\mu(i) + \\mu(i)\\mu(j)$$\n",
    "\n",
    "$$= E(X_iX_j) - \\mu(i)\\mu(j)$$\n"
   ]
  },
  {
   "cell_type": "markdown",
   "metadata": {},
   "source": [
    "# Aufgabe 13.2"
   ]
  },
  {
   "cell_type": "markdown",
   "metadata": {},
   "source": [
    "In dieser Aufgabe werden wir die empirische Autokorrelationsfunktion diverser Zeitreihen berechnen und graphisch darstellen. Insbesondere interessiert uns die Autokorrelationsfunktion verrauschter Signale."
   ]
  },
  {
   "cell_type": "code",
   "execution_count": null,
   "metadata": {},
   "outputs": [],
   "source": []
  }
 ],
 "metadata": {
  "kernelspec": {
   "display_name": "Python 3",
   "language": "python",
   "name": "python3"
  },
  "language_info": {
   "codemirror_mode": {
    "name": "ipython",
    "version": 3
   },
   "file_extension": ".py",
   "mimetype": "text/x-python",
   "name": "python",
   "nbconvert_exporter": "python",
   "pygments_lexer": "ipython3",
   "version": "3.7.3"
  }
 },
 "nbformat": 4,
 "nbformat_minor": 2
}
