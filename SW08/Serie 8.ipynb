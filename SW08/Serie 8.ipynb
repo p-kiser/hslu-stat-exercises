{
 "cells": [
  {
   "cell_type": "markdown",
   "metadata": {},
   "source": [
    "# Aufgabe 8.1"
   ]
  },
  {
   "cell_type": "markdown",
   "metadata": {},
   "source": [
    "Der skeptische Konsument gibt nicht auf und versucht weiterhin, den Weinhändler des Betrugs zu überführen. DerWeininhalt der 12 erworbenen Weinflaschen lauten:\n",
    "\n",
    "```\n",
    "71, 69, 67, 68, 73, 72, 71, 71, 68, 72, 69, 72 (in Zentiliter)\n",
    "```"
   ]
  },
  {
   "cell_type": "markdown",
   "metadata": {},
   "source": [
    "**a) Nun zweifeln wir daran, ob die Datenwirklich gut durch eine Normalverteilung beschriebenwerden können (diese Annahme haben wir sowohl beim z- als auch beim t-Test gemacht). Wenn die Normalverteilungsannahme nicht gemacht werden kann, können wir den Vorzeichen-Test durchführen. Führen Sie also den Vorzeichen-Test auf dem 5%-Signifikanzniveau durch. Wie lautet nun das Ergebnis?**"
   ]
  },
  {
   "cell_type": "code",
   "execution_count": 21,
   "metadata": {},
   "outputs": [
    {
     "name": "stdout",
     "output_type": "stream",
     "text": [
      "p-Wert = 0.806\n"
     ]
    }
   ],
   "source": [
    "import scipy.stats as st\n",
    "import numpy as np\n",
    "\n",
    "# H_0: mean = 70\n",
    "x = np.array([71, 69, 67, 68, 73, 72, 71, 71, 68, 72, 69, 72])\n",
    "\n",
    "# Positive Vorzeichen zählen\n",
    "n_positives = x[ x - 70 > 0].size\n",
    "\n",
    "p = st.binom.cdf(k=n_positives, n=x.size, p=0.5)\n",
    "print('p-Wert = {:.3f}'.format(p))"
   ]
  },
  {
   "cell_type": "markdown",
   "metadata": {},
   "source": [
    "\n",
    "Mit einem Signifikanzniveau von $5\\%$ kann die Nullhypothese bei einem p-Wert von $0.806$ nicht verworfen werden.\n",
    "\n",
    "Der Weinhändler betrügt wahrscheinlich nicht."
   ]
  },
  {
   "cell_type": "markdown",
   "metadata": {},
   "source": [
    "**b) Wie lautet das Ergebnis mit dem Wilcoxon-Test?**"
   ]
  },
  {
   "cell_type": "code",
   "execution_count": 26,
   "metadata": {},
   "outputs": [
    {
     "name": "stdout",
     "output_type": "stream",
     "text": [
      "p=0.690\n"
     ]
    }
   ],
   "source": [
    "import scipy.stats as st\n",
    "\n",
    "diff = x - 70\n",
    "p = st.wilcoxon(x=diff, correction=True).pvalue\n",
    "print('p={:.3f}'.format(p))"
   ]
  },
  {
   "cell_type": "markdown",
   "metadata": {},
   "source": [
    "# Aufgabe 8.2"
   ]
  },
  {
   "cell_type": "markdown",
   "metadata": {},
   "source": [
    "Untenstehend finden Sie mehrere Beispiele für Vergleiche von 2 Stichproben. Beantworten Sie für jedes Beispiel kurz die folgenden Fragen:\n",
    "    \n",
    "- Handelt es sich um gepaarte oder um ungepaarte Stichproben? Begründen Sie!\n",
    "- Ist der Test einseitig oder zweiseitig durchzuführen? Begründen Sie!\n",
    "- Wie lautet die Nullhypothese in Worten?\n",
    "- Wie lautet die Alternativhypothese in Worten?"
   ]
  },
  {
   "cell_type": "markdown",
   "metadata": {},
   "source": [
    "**a) In einem Experiment sollte der Effekt von Zigarettenrauchen auf Blutplättchenanhäufungen untersucht werden. Dazu wurden 11 Probanden vor und nach dem Rauchen einer Zigarette Blutproben entnommen, und es wurde gemessen, wie stark sich die Blutplättchen anhäuften. Es interessiert, ob sich Blutplättchen durch das Rauchen vermehrt anhäufen.**"
   ]
  },
  {
   "cell_type": "markdown",
   "metadata": {},
   "source": [
    "- *Gepaart*: Es handelt sich um die selben Probanden. Jeder Messung vor dem Rauchen kann also eindeutig eine Messung nach dem Rauchen zugewiesen werden.\n",
    "- *Einseitig*: Es wird untersucht, ob sich die Blutplättchen anhäufen\n",
    "- $H_0$: Rauchen hat keinen Einfluss auf die Anzahl Blutplättchen: $\\mu_R = \\mu_{NR}$\n",
    "- $H_A$: Rauchen erhöht die Anzahl Blutplätthen: $\\mu_R > \\mu_{NR}$"
   ]
  },
  {
   "cell_type": "markdown",
   "metadata": {},
   "source": [
    "**b) Die nächsten Daten sind aus einer Studie von Charles Darwin über die Fremd- und Selbstbefruchtung. 15 Paare von Setzlingen mit demselben Alter, je einer durch Selbst- und einer durch Fremdbefruchtung produziert, wurden gezüchtet. Beide Teile je eines Paares hatten nahezu gleiche Bedingungen. Das Ziel bestand darin zu sehen, ob die fremdbefruchteten Pflanzen mehr Lebenskraft besitzen als die selbstbefruchteten (d.h., ob sie grösser werden). Es wurden die Höhen\n",
    "jeder Pflanze nach einer fixen Zeitspanne gemessen.**"
   ]
  },
  {
   "cell_type": "markdown",
   "metadata": {},
   "source": [
    "- *Gepaart*: Jede Messung des selbstbefruchteten Setzlings kann einer Messung des entsprechenden fremdbefruchteten Setlings zugeordnet werden.\n",
    "- *Einseitig*: Es sollte untersucht werden, ob die fremdbefruchteten Setzlinge grösser sind.\n",
    "- $H_0$: Die Höhen unterscheiden sich nicht.\n",
    "- $H_A$: Fremdbefruchtete Setlinge werden grösser als selbsbefruchtete."
   ]
  },
  {
   "cell_type": "markdown",
   "metadata": {},
   "source": [
    "**c) Beeinflusst der Kalziumgehalt in der Nahrung den systolischen Blutdruck? Zur Überprüfung dieser Frage wurde einer Versuchsgruppe von 10 Männern während 12 Wochen ein Kalziumzusatz verabreicht. Einer Kontrollgruppe von 11 Männern gab man ein Placebopräparat.**"
   ]
  },
  {
   "cell_type": "markdown",
   "metadata": {},
   "source": [
    "* *Ungepaart*: Verschiedene Männer, unterschiedliche Grössen der Gruppen\n",
    "* *Zweiseitig*: Es soll untersucht werden, ob Kalzium einen Einfluss hat (positiv oder negativ.\n",
    "* $H_0$: Kalzium hat keinen Einfluss auf den Blutdruck.\n",
    "* $H_A$: Kalzium hat einen Einfluss auf den Blutdruck."
   ]
  },
  {
   "cell_type": "markdown",
   "metadata": {},
   "source": [
    "**d) In einem Experiment wurde untersucht, ob Mäuse zwei Formen von Eisen (Fe2+ und Fe3+) unterschiedlich gut aufnehmen. Dazu wurden 36 Mäuse in zwei Gruppen zu je 18 unterteilt und die eine Gruppe mit Fe2+ und die andere mit Fe3+ „gefüttert”. Da das Eisen radioaktiv markiert war, konnte sowohl die Anfangskonzentration wie auch die Konzentration einige Zeit später gemessen werden. Daraus wurde für jede Maus der Anteil des aufgenommenen Eisens berechnet.**"
   ]
  },
  {
   "cell_type": "markdown",
   "metadata": {},
   "source": [
    "* *Ungepaart*: Es kann nicht jeder Maus aus einer Gruppe eindeutig eine Maus aus der anderen Gruppe zugewiesen werden.\n",
    "* *Zweiseitg*: Es sollt untersucht werden ob es einen Unterschied gibt.\n",
    "* $H_0$: Es gibt keinen Unterschied.\n",
    "* $H_A$:  Es gibt einen Unterschied."
   ]
  },
  {
   "cell_type": "markdown",
   "metadata": {},
   "source": [
    "# Aufgabe 8.3"
   ]
  },
  {
   "cell_type": "markdown",
   "metadata": {},
   "source": [
    "Zwei Tiefen-Messgeräte messen für die Tiefe einer Gesteins-Schicht an 9 verschiedenen Orten die folgenden Werte: Kennzahlen für die Differenz: $\\overline{d}_n$ beträgt −5.78, die Standardabweichung $\\sigma_D$ = 6.2.\n",
    "\n",
    "```\n",
    "Messgerät A: 120 265 157 187 219 288 156 205 163\n",
    "Messgerät B: 127 281 160 185 220 298 167 203 171\n",
    "Differenz d:  −7 −16  −3   2  −1 −10 −11   2  −8\n",
    "```\n",
    "\n",
    "Es wird vermutet, dass Gerät B systematisch grössere Werte misst. Bestätigen die Messwerte diese Vermutung oder ist eine zufällige Schwankung als Erklärung plausibel?"
   ]
  },
  {
   "cell_type": "markdown",
   "metadata": {},
   "source": [
    "**a) Handelt es sich um verbundene (gepaarte) oder um unabhängige Stichproben?**"
   ]
  },
  {
   "cell_type": "markdown",
   "metadata": {},
   "source": [
    "Gepaart: Jede Messung mit Gerät A kann einer Messung mit Gerät B *am gleichen Ort* zugewiesen werden."
   ]
  },
  {
   "cell_type": "markdown",
   "metadata": {},
   "source": [
    "**b) Führen Sie einen t-Test auf dem Niveau a = 0.05 durch. Formulieren Sie explizit: Modellannahmen,Nullhypothese, Alternative, Teststatistik, Verwerfungsbereich und Testergebnis.**"
   ]
  },
  {
   "cell_type": "markdown",
   "metadata": {},
   "source": [
    "- *Modell*: $D_i iid \\sim \\mathcal{N}(\\mu, \\sigma^2)$, $\\sigma$ wird durch $\\hat{\\sigma}$ geschätzt\n",
    "- $H_0$: $\\mu_D = \\mu_0 = 0$\n",
    "- $H_A$: $\\mu_D < \\mu_0$\n",
    "- *Teststatistik*: t-Verteilung mit Freiheitsgrad 8\n",
    "- *Signifikanzniveau: $\\alpha = 0.05$"
   ]
  },
  {
   "cell_type": "code",
   "execution_count": 30,
   "metadata": {},
   "outputs": [
    {
     "data": {
      "text/plain": [
       "-3.8430659442138757"
      ]
     },
     "execution_count": 30,
     "metadata": {},
     "output_type": "execute_result"
    }
   ],
   "source": [
    "from scipy.stats import t\n",
    "import numpy as np\n",
    "\n",
    "t.ppf(q=0.05, loc=0, scale=6.2/np.sqrt(9), df=8)"
   ]
  },
  {
   "cell_type": "markdown",
   "metadata": {},
   "source": [
    "- *Verwerfungsbereich*: $K = (-\\infty, -3.843]$\n",
    "- *Testentscheid*: Der Wert $\\overline{d}_n= −5.78$ ist im Verwerfungsbereich, die Nullhypothese wird also verworfen.\n",
    "\n",
    "Gerät B misst signifikant grössere Werte als Gerät A."
   ]
  },
  {
   "cell_type": "markdown",
   "metadata": {},
   "source": [
    "**c) Sei Z die Zufallsvariable, die zählt, bei wie vielen der 9 Messungen Gerät A einen grösseren Wert misst, als Gerät B. Wie ist Z verteilt, wenn die Geräte bis auf Zufallsschwankungen das Gleiche messen?**"
   ]
  },
  {
   "cell_type": "markdown",
   "metadata": {},
   "source": [
    "Z ist binomialveteilt."
   ]
  },
  {
   "cell_type": "markdown",
   "metadata": {},
   "source": [
    "# Aufgabe 8.4"
   ]
  },
  {
   "cell_type": "markdown",
   "metadata": {},
   "source": [
    "In der folgenden Tabelle sind die Kieferlängen von 10 männlichen und 10 weiblichen Goldschakalen eingetragen:\n",
    "\n",
    "Einige Kennzahlen:\n",
    "\n",
    "* $\\overline{x}_n = 113.4$, $\\hat{\\sigma}_x^2 = 13.82$\n",
    "* $\\overline{y}_n = 108.6$, $\\hat{\\sigma}_y = 5.16$.\n",
    "\n",
    "```\n",
    "männlich (x_i): 120 107 110 116 114 111 113 117 114 112\n",
    "weiblich (y_j): 110 111 107 108 110 105 107 106 111 111\n",
    "```\n",
    "\n",
    "Es stellt sich nun die Frage, ob es einen Unterschied zwischen der Kieferlänge\n",
    "von Männchen und Weibchen gibt."
   ]
  },
  {
   "cell_type": "markdown",
   "metadata": {},
   "source": [
    "**a) Handelt es sich um gepaarte oder ungepaarte Stichproben? Begründen Sie Ihre\n",
    "Antwort.**"
   ]
  },
  {
   "cell_type": "markdown",
   "metadata": {},
   "source": [
    "Ungepaart: Unterschiedliche Anzahl Messungen, es kann nicht jedem $x$ ein eindeutiges $y$ zugewiesen werden."
   ]
  },
  {
   "cell_type": "markdown",
   "metadata": {},
   "source": [
    "**b) Formulieren Sie Nullhypothese und Alternativhypothese.**"
   ]
  },
  {
   "cell_type": "markdown",
   "metadata": {},
   "source": [
    "* $H_0$: Es gibt keinen Unterschied zwischen den Kieferlängen von Männchen und Weibchen: $\\mu_x = \\mu_y$\n",
    "* *$H_A$: Es gibt einen Unterschied: $\\mu_x \\neq \\mu_y$"
   ]
  },
  {
   "cell_type": "markdown",
   "metadata": {},
   "source": [
    "**c) Führen Sie den t-Test nun noch mit Hilfe von Python durch. Geben Sie den resultierenden p-Wert sowie den daraus folgenden Testentscheid an.**"
   ]
  },
  {
   "cell_type": "code",
   "execution_count": 38,
   "metadata": {},
   "outputs": [
    {
     "data": {
      "text/plain": [
       "0.0033599524351925016"
      ]
     },
     "execution_count": 38,
     "metadata": {},
     "output_type": "execute_result"
    }
   ],
   "source": [
    "import pandas as pd\n",
    "import scipy.stats as st\n",
    "jackals = pd.read_table(r\"./dat/jackals.txt\", sep = \" \")\n",
    "st.ttest_ind(jackals[\"M\"], jackals[\"W\"], equal_var=False).pvalue"
   ]
  },
  {
   "cell_type": "markdown",
   "metadata": {},
   "source": [
    "*Annahme: Signifikanznivieau $\\alpha = 0.05$*\n",
    "\n",
    "\n",
    "Der p-Wert ist 0.0034 und somit kleiner als das Signifikazniveau $\\alpha = 0.05$. Die Nullhypothese wird also verworfen.\n",
    "\n",
    "Es gibt sehr wahrscheinlich einen Unterschied bei der Kieferlänge von männlichen und weiblichen Goldschakalen."
   ]
  },
  {
   "cell_type": "markdown",
   "metadata": {},
   "source": [
    "**d) Führen Sie mit Hilfe von Python einen Wilcoxon-Test durch. Geben Sie wiederum p-Wert und Testentscheid an.**"
   ]
  },
  {
   "cell_type": "code",
   "execution_count": 40,
   "metadata": {},
   "outputs": [
    {
     "data": {
      "text/plain": [
       "0.004845462884722891"
      ]
     },
     "execution_count": 40,
     "metadata": {},
     "output_type": "execute_result"
    }
   ],
   "source": [
    "st.mannwhitneyu(jackals[\"M\"], jackals[\"W\"], alternative = \"two-sided\").pvalue"
   ]
  },
  {
   "cell_type": "markdown",
   "metadata": {},
   "source": [
    "Der p-Wert ist auch hier (knapp) unter dem Signifikanzniveau, die Nullhypothese wird also verworfen."
   ]
  },
  {
   "cell_type": "markdown",
   "metadata": {},
   "source": [
    "**e) Falls die Resultate der beiden Tests unterschiedlich ausgefallen wären, welchem würden Sie eher vertrauen? Weshalb?**"
   ]
  },
  {
   "cell_type": "markdown",
   "metadata": {},
   "source": [
    "Der Wilcoxon-Test hat in der Regel die grössere Macht. Ausserdem kann der t-Test nur unter Annahme der Normalverteilung verwerden, was hier jedoch nicht zwingend der Fall sein mus.\n",
    "\n",
    "Aus diesem Gründen ist das Resulat des Wilcoxon-Tests vorzuziehen."
   ]
  },
  {
   "cell_type": "markdown",
   "metadata": {},
   "source": [
    "# Aufgabe 8.5"
   ]
  },
  {
   "cell_type": "markdown",
   "metadata": {},
   "source": [
    "Im Jahr 2013 wurden im Rahmen einer internationalen Zusammenarbeit unter der Leitung der EAWAG in Dübendorf Konzentrationen von illegalen Substanzen im Abwasser von 42 europäischen Städten während einer Woche untersucht (Ort C. et all, *Spatial differences and temporal changes in illicit drug use in Europe quantified by wastewater\n",
    "analysis*, Addiction 2014 Aug).\n",
    "\n",
    "Dabei wurden an 7 aufeinanderfolgenden Tagen (6.-12. März) neben anderen Substanzen die medianen Konzentrationen von Ecstasy (MDMA) im Abwasser gemessenen. Aufgrund dieser Studie war eine Aussage einer vielgelesenen Schweizer Gratiszeitung, dass in Zürich viel mehr Drogen konsumiert werden als anderswo.\n",
    "\n",
    "In der nachfolgenden Tabelle sind für die Städte Zürich und Basel die an den untersuchten Tagen ausgeschiedenen Mengen MDMA aufgeführt. Die Angaben sind in mg pro 1000 Einwohner pro Tag. Nehmen Sie an, dass die täglichen Differenzen $D_i$ zwischen den pro tausend Einwohner ausgeschiedenen Mengen von MDMA im Abwasser von Zürich und Basel unabhängig voneinander normalverteilt mit Erwartungswert\n",
    "$μ_D$ und Standardabweichung $s_D$ sind.\n",
    "\n",
    "| Wochentage |  Mi |  Do |  Fr |  Sa | So |  Mo |  Di |\n",
    "|--- | ---:| ---:| ---:| ---:| ---:| ---:| ---:|\n",
    "| Zürich     | 16.3|   12.7|   14.0 | 53.3 |117.0 | 62.6| 27.6|\n",
    "|Basel       |10.4 | 8.91 | 11.7 | 29.9 | 46.3 | 25.0 | 29.4 |"
   ]
  },
  {
   "cell_type": "markdown",
   "metadata": {},
   "source": [
    "**a) Schätzen Sie aus den Daten den Mittelwert und die Standardabweichung der Differenzen, d.h., $\\hat{μ}_D$ und $\\hat{\\sigma}_D$.**"
   ]
  },
  {
   "cell_type": "code",
   "execution_count": 44,
   "metadata": {},
   "outputs": [
    {
     "name": "stdout",
     "output_type": "stream",
     "text": [
      "Mean:\t 20.27\n",
      "Std:\t 26.272304175056032\n"
     ]
    }
   ],
   "source": [
    "import numpy as np\n",
    "from pandas import Series\n",
    "mdma_zuerich = Series([16.3, 12.7, 14.0, 53.3, 117, 62.6, 27.6])\n",
    "mdma_basel = Series([10.4, 8.91, 11.7, 29.9, 46.3, 25.0, 29.4])\n",
    "d = mdma_zuerich - mdma_basel\n",
    "print(\"Mean:\\t\", d.mean())\n",
    "print(\"Std:\\t\", d.std())"
   ]
  },
  {
   "cell_type": "markdown",
   "metadata": {},
   "source": [
    "**b) Handelt es sich um gepaarte oder ungepaarte Stichproben? Begründen Sie Ihre Antwort.**"
   ]
  },
  {
   "cell_type": "markdown",
   "metadata": {},
   "source": [
    "Ungepaart: es werden zwei unterschiedliche Sachen gemessen, und nicht zweiml das gleiche."
   ]
  },
  {
   "cell_type": "markdown",
   "metadata": {},
   "source": [
    "**c) Formulieren Sie die Nullhypothese und die Alternativhypothese, wenn Sie die\n",
    "Aussage der besagten Gratiszeitung überprüfen möchten.**"
   ]
  },
  {
   "cell_type": "markdown",
   "metadata": {},
   "source": [
    "* $H_0: \\mu_D = \\mu_0 = 0$\n",
    "* $H_A: \\mu_D > \\mu_0 =  0$"
   ]
  },
  {
   "cell_type": "markdown",
   "metadata": {},
   "source": [
    "**d) Führen Sie einen statistischen Test mit Hilfe von Python auf dem Signifikanzniveau 95% durch, unter der Annahme, dass die Daten normalverteilt sind.**\n",
    "\n",
    "**Wie lautet die Teststatistik und wie ist diese unter der Nullhypothese verteilt?**"
   ]
  },
  {
   "cell_type": "markdown",
   "metadata": {},
   "source": [
    "Teststatistik: $D \\sim \\mathcal{N}(\\mu, \\sigma^2)$"
   ]
  },
  {
   "cell_type": "code",
   "execution_count": 47,
   "metadata": {},
   "outputs": [
    {
     "data": {
      "text/plain": [
       "0.2232566584677775"
      ]
     },
     "execution_count": 47,
     "metadata": {},
     "output_type": "execute_result"
    }
   ],
   "source": [
    "st.ttest_ind(mdma_zuerich,mdma_basel, equal_var=False).pvalue"
   ]
  },
  {
   "cell_type": "markdown",
   "metadata": {},
   "source": [
    "**e) Führen Sie nun einen statistischen Test mit Hilfe von Python auf dem Signifikanzniveau\n",
    "95% durch, unter der Annahme, dass die Daten nicht normalverteilt\n",
    "sind.**"
   ]
  },
  {
   "cell_type": "code",
   "execution_count": 50,
   "metadata": {},
   "outputs": [
    {
     "data": {
      "text/plain": [
       "0.12507650397969117"
      ]
     },
     "execution_count": 50,
     "metadata": {},
     "output_type": "execute_result"
    }
   ],
   "source": [
    "st.mannwhitneyu(mdma_zuerich, mdma_basel, alternative='greater').pvalue"
   ]
  }
 ],
 "metadata": {
  "kernelspec": {
   "display_name": "Python 3",
   "language": "python",
   "name": "python3"
  },
  "language_info": {
   "codemirror_mode": {
    "name": "ipython",
    "version": 3
   },
   "file_extension": ".py",
   "mimetype": "text/x-python",
   "name": "python",
   "nbconvert_exporter": "python",
   "pygments_lexer": "ipython3",
   "version": "3.7.3"
  }
 },
 "nbformat": 4,
 "nbformat_minor": 2
}
