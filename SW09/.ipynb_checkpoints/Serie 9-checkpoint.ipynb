{
 "cells": [
  {
   "cell_type": "markdown",
   "metadata": {},
   "source": [
    "# Aufgabe 9.1"
   ]
  },
  {
   "cell_type": "markdown",
   "metadata": {},
   "source": [
    "Ein Experiment ist geplant, um drei Behandlungsmethoden von Hemden miteinander zu vergleichen, wobei das Ziel der Behandlungsmethoden darin besteht, knitterfreie Hemden durch ein strapazierfähiges Pressverfahren zu produzieren. In der Vergangenheit wurde Formaldehyd benutzt, um knitterfreie Hemden zu produzieren, allerdings hatte diese chemische Behandlung unerwünschte Effekte. Diese Studie betrachtet drei alternative chemische Behandlungssubstanzen\n",
    "\n",
    "- PCA (1-2-3 propane tricarbolic acid)\n",
    "- BTCA (butane tetracarboxilic acid)\n",
    "- CA (citric acid)\n",
    "\n",
    "Vier Hemden werden für jede Behandlung benützt. Zuerst werden die Hemden\n",
    "den drei Behandlungen unterzogen, worauf die Hemden in einer Simulationsmaschine einem Verfahren ausgesetzt werden, die das Tragen und Waschen von Hemden nachahmt. Die chemischen Behandlungen beeinflussen, resp. kontaminieren einander nicht, falls alle zusammen in derselben Simulationsmaschine getestet werden. Die Maschine hat Platz für ein bis vier Hemden pro Simulationslauf. Nach Beendigung des Simulationslaufs wird jedes der vier Hemden auf Risse und Reissfestigkeit\n",
    "ausgemessen, und es wird bestimmt, wie knitterfrei die Hemden sind, nachdem diese dem simulierten Trag- und Waschvorgang unterworfen wurden.\n",
    "\n",
    "Die Vergleiche zwischen den unterschiedlichen Behandlungsmethoden können durch folgende Faktoren beeinflusst werden:\n",
    "\n",
    "- natürliche Variation zwischen Hemden\n",
    "- Variation in der Anwendung des strapazierfähigen Pressverfahrens\n",
    "- Variation beim simulierten Trag- und Waschvorgang\n",
    "\n",
    "und natürlich auch durch Messfehler. Im Folgenden sind drei Methoden beschrieben, wie das Testexperiment durchgeführt werden kann.\n",
    "\n",
    "**Methode 1**: Die Hemden sind zuällig in drei Gruppen bestehend aus vier Hemden aufgeteilt. Jede Gruppe wird einem der drei strapazierfähigen Pressverfahren unterzogen, und zwar als ein Batch. Jeder Batch wird darauf in einem Simulationslauf in der Maschine behandelt. Jeder Simulationslauf in der Maschine wird folglich mit vier Hemden durchgeführt, die alle dieselbe Behandlung erhalten haben. Im Gesamten\n",
    "gibt es drei Simulationsläufe.\n",
    "\n",
    "**Methode 2**: Die Hemden sind zufällig in drei Behandlungsgruppen bestehend aus jeweils vier Hemden aufgeteilt. Das strapazierfähige Pressverfahren wird für jedes einzelne Hemd unabhänig angewendet. Die Hemden sind in vier Gruppen bestehend aus drei Hemden aufgeteilt, wobei ein Hemd von jedem der drei Pressverfahren stammt. Jede der vier Gruppen erfährt denselben Durchlauf in der Simulationsmaschine.\n",
    "Im Gesamten gibt es also vier Läufe der Simulationsmaschine.\n",
    "\n",
    "**Methode 3**: Die Hemden sind zufällig aufgeteilt in drei Gruppen bestehend aus vier Hemden. Die chemischen Behandlungen beim Pressverfahren werden unabhängig an jedem einzelnen Hemd angewendet. Der Durchlauf in der Simulationsmaschine erfolgt gleich wie in Methode 1.\n",
    "\n",
    "**Beantworten Sie die folgenden Fragen: Welche der drei Methoden bevorzugen Sie und warum? Was sind die Nachteile der anderen beiden Methoden?**\n",
    "\n",
    "(Quelle: Robert O. Kuehl. Design of Experiments: Statistical Principles of Research Design and Analysis. Duxbury Press at Brooks/Cole, 2 edition, 2000, p. 34, Exercise 6.)"
   ]
  },
  {
   "cell_type": "markdown",
   "metadata": {},
   "source": [
    "* Es gibt drei Behandlungsmethoden\n",
    "* Diese werden auf Rissfestigkeit und Knitterfreiheit geprüft\n",
    "* Drei Faktoren für Confounding\n",
    "    - Natürliche Variantion der Hemden\n",
    "    - Variation der Anwendung der Substanz\n",
    "    - Variation bei der Simulation\n",
    "* Phasen des Experiments:\n",
    "     - Aufteilung der Hemden in drei Gruppen\n",
    "     - Anwendung der Substanz\n",
    "     - Simulation des Trage- und Waschvorgangs\n",
    "     \n",
    " In der Methode 2 werden alle drei Möglichkeiten für confounding neutralisiert. Diese Methode ist also zu bevorzugen."
   ]
  },
  {
   "cell_type": "markdown",
   "metadata": {},
   "source": [
    "\n",
    "# Aufgabe 9.2"
   ]
  },
  {
   "cell_type": "markdown",
   "metadata": {},
   "source": [
    "Angenommen wir untersuchen die Auswirkung der Ernährung auf die Körpergrösse von Kindern und haben zwei Diäten zum Vergleich: Diät A (eine ausgewogene Ernährung mit viel Brokkoli) und Diät B (eine Diät reich an Kartoffelchips, Süssigkeiten und Riegeln). Wir möchten die Diät finden, die Kindern hilft, am schnellsten (in die Höhe) zu wachsen.\n",
    "\n",
    "Wir haben uns entschieden, 20 Kinder in einem Experiment zu untersuchen. Wir erwägen die folgenden Methoden zur Gruppenbildung der Kinder für die beiden Diäten:\n",
    "\n",
    "1. Wir lassen die Kinder selber wählen.\n",
    "2. Wir nehmen die erstangekommenen 10 Kinder für Diät A, die übrigen 10 Kinder für Diät B.\n",
    "3. Wir alternieren Diät A, B, A, B etc. entlang der alphabetischen Reihenfolge der Namen der Kinder.\n",
    "4. Wir werfen eine Münze für jedes Kind in der Studie: Kopf entspricht A, Zahl entspricht B.\n",
    "5. Wir nehmen 20 Kinder und wählen 10 zufällig für A, den Rest für B.\n",
    "\n",
    "**Beschreiben Sie die Vor- und Nachteile der Verwendung von jeder dieser Methoden in Bezug auf Gruppengrösse, Confounding und Blindheit der Forscher.**"
   ]
  },
  {
   "cell_type": "markdown",
   "metadata": {},
   "source": [
    "1. Kinder wählen selber:\n",
    "    - Vorteile: keine\n",
    "    - Nachteile: Nicht randomisiert: kein Schutz vor Confounding, ungleiche Gruppengrössen\n",
    "2. Die ersten 10 in A, der Rest in B:\n",
    "    - Vorteile: Gleiche Gruppengrössen\n",
    "    - Nachteilee: Kein Schutz vor Confounding (arme Kinder kommen zu spät...)\n",
    "3. Alphabetisch alternierend:\n",
    "    - Vorteile: Gleiche Gruppengrössen, kein Confounding\n",
    "    - Nachteile: Nicht randomisiert, Einteilung ist von Anfang an klar --> kann zu Blindheit der Forschenden führen\n",
    "4. Münzwurf:\n",
    "    - Vorteile: Randomisiert, Schutz vor Confounding, erlaubt statistische Rückschlüsse zu ziehen\n",
    "    - Nachteile: Eventuell ungleiche Gruppengrössen \n",
    "5. Zufällig:\n",
    "    - Vorteile: Randomisiert, gleich grosse Gruppen\n",
    "    - Nachteile: keine"
   ]
  }
 ],
 "metadata": {
  "kernelspec": {
   "display_name": "Python 3",
   "language": "python",
   "name": "python3"
  },
  "language_info": {
   "codemirror_mode": {
    "name": "ipython",
    "version": 3
   },
   "file_extension": ".py",
   "mimetype": "text/x-python",
   "name": "python",
   "nbconvert_exporter": "python",
   "pygments_lexer": "ipython3",
   "version": "3.7.3"
  }
 },
 "nbformat": 4,
 "nbformat_minor": 2
}
